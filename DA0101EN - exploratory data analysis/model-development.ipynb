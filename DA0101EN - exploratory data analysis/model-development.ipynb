{
 "cells": [
  {
   "cell_type": "markdown",
   "metadata": {},
   "source": [
    "<center>\n",
    "    <img src=\"https://cf-courses-data.s3.us.cloud-object-storage.appdomain.cloud/IBMDeveloperSkillsNetwork-DA0101EN-SkillsNetwork/labs/Module%204/images/IDSNlogo.png\" width=\"300\" alt=\"cognitiveclass.ai logo\"  />\n",
    "</center>\n",
    "\n",
    "# Model Development\n",
    "\n",
    "Estimated time needed: **30** minutes\n",
    "\n",
    "## Objectives\n",
    "\n",
    "After completing this lab you will be able to:\n",
    "\n",
    "*   Develop prediction models\n"
   ]
  },
  {
   "cell_type": "markdown",
   "metadata": {},
   "source": [
    "<p>In this section, we will develop several models that will predict the price of the car using the variables or features. This is just an estimate but should give us an objective idea of how much the car should cost.</p>\n"
   ]
  },
  {
   "cell_type": "markdown",
   "metadata": {},
   "source": [
    "Some questions we want to ask in this module\n",
    "\n",
    "<ul>\n",
    "    <li>Do I know if the dealer is offering fair value for my trade-in?</li>\n",
    "    <li>Do I know if I put a fair value on my car?</li>\n",
    "</ul>\n",
    "<p>In data analytics, we often use <b>Model Development</b> to help us predict future observations from the data we have.</p>\n",
    "\n",
    "<p>A model will help us understand the exact relationship between different variables and how these variables are used to predict the result.</p>\n"
   ]
  },
  {
   "cell_type": "markdown",
   "metadata": {},
   "source": [
    "<h4>Setup</h4>\n"
   ]
  },
  {
   "cell_type": "markdown",
   "metadata": {},
   "source": [
    "Import libraries:\n"
   ]
  },
  {
   "cell_type": "code",
   "execution_count": 1,
   "metadata": {},
   "outputs": [
    {
     "name": "stdout",
     "output_type": "stream",
     "text": [
      "\n",
      "                  __    __    __    __\n",
      "                 /  \\  /  \\  /  \\  /  \\\n",
      "                /    \\/    \\/    \\/    \\\n",
      "███████████████/  /██/  /██/  /██/  /████████████████████████\n",
      "              /  / \\   / \\   / \\   / \\  \\____\n",
      "             /  /   \\_/   \\_/   \\_/   \\    o \\__,\n",
      "            / _/                       \\_____/  `\n",
      "            |/\n",
      "        ███╗   ███╗ █████╗ ███╗   ███╗██████╗  █████╗\n",
      "        ████╗ ████║██╔══██╗████╗ ████║██╔══██╗██╔══██╗\n",
      "        ██╔████╔██║███████║██╔████╔██║██████╔╝███████║\n",
      "        ██║╚██╔╝██║██╔══██║██║╚██╔╝██║██╔══██╗██╔══██║\n",
      "        ██║ ╚═╝ ██║██║  ██║██║ ╚═╝ ██║██████╔╝██║  ██║\n",
      "        ╚═╝     ╚═╝╚═╝  ╚═╝╚═╝     ╚═╝╚═════╝ ╚═╝  ╚═╝\n",
      "\n",
      "        mamba (0.15.3) supported by @QuantStack\n",
      "\n",
      "        GitHub:  https://github.com/mamba-org/mamba\n",
      "        Twitter: https://twitter.com/QuantStack\n",
      "\n",
      "█████████████████████████████████████████████████████████████\n",
      "\n",
      "\n",
      "Looking for: ['sklearn=0.20.1-y']\n",
      "\n",
      "pkgs/r/linux-64          [<=>                 ] (00m:00s) \n",
      "pkgs/r/linux-64          [=>                ] (00m:00s) 432 KB / ?? (1.40 MB/s)\n",
      "pkgs/r/linux-64          [=>                ] (00m:00s) 432 KB / ?? (1.40 MB/s)\n",
      "pkgs/main/linux-64       [<=>                 ] (00m:00s) \n",
      "pkgs/r/linux-64          [=>                ] (00m:00s) 432 KB / ?? (1.40 MB/s)\n",
      "pkgs/main/linux-64       [=>                ] (00m:00s) 644 KB / ?? (2.09 MB/s)\n",
      "pkgs/r/linux-64          [=>                ] (00m:00s) 432 KB / ?? (1.40 MB/s)\n",
      "pkgs/main/linux-64       [=>                ] (00m:00s) 644 KB / ?? (2.09 MB/s)\n",
      "pkgs/main/noarch         [<=>                 ] (00m:00s) \n",
      "pkgs/r/linux-64          [=>                ] (00m:00s) 432 KB / ?? (1.40 MB/s)\n",
      "pkgs/main/linux-64       [=>                ] (00m:00s) 644 KB / ?? (2.09 MB/s)\n",
      "pkgs/main/noarch         [=>                ] (00m:00s) 644 KB / ?? (2.08 MB/s)\n",
      "pkgs/r/linux-64          [=>                ] (00m:00s) 432 KB / ?? (1.40 MB/s)\n",
      "pkgs/main/linux-64       [=>                ] (00m:00s) 644 KB / ?? (2.09 MB/s)\n",
      "pkgs/main/noarch         [=>                ] (00m:00s) 644 KB / ?? (2.08 MB/s)\n",
      "pkgs/r/noarch            [<=>                 ] (00m:00s) \n",
      "pkgs/r/linux-64          [=>                ] (00m:00s) 432 KB / ?? (1.40 MB/s)\n",
      "pkgs/main/linux-64       [=>                ] (00m:00s) 644 KB / ?? (2.09 MB/s)\n",
      "pkgs/main/noarch         [=>                ] (00m:00s) 644 KB / ?? (2.08 MB/s)\n",
      "pkgs/r/noarch            [=>              ] (00m:00s) 264 KB / ?? (872.02 KB/s)\n",
      "pkgs/r/linux-64          [=>                ] (00m:00s) 432 KB / ?? (1.40 MB/s)\n",
      "pkgs/main/linux-64       [=>                ] (00m:00s) 644 KB / ?? (2.09 MB/s)\n",
      "pkgs/main/noarch         [<=>                 ] (00m:00s) Finalizing...\n",
      "pkgs/r/noarch            [=>              ] (00m:00s) 264 KB / ?? (872.02 KB/s)\n",
      "pkgs/r/linux-64          [=>                ] (00m:00s) 432 KB / ?? (1.40 MB/s)\n",
      "pkgs/main/linux-64       [=>                ] (00m:00s) 644 KB / ?? (2.09 MB/s)\n",
      "pkgs/main/noarch         [<=>                 ] (00m:00s) Done\n",
      "pkgs/r/noarch            [=>              ] (00m:00s) 264 KB / ?? (872.02 KB/s)\n",
      "pkgs/main/noarch         [====================] (00m:00s) Done\n",
      "pkgs/r/linux-64          [=>                ] (00m:00s) 432 KB / ?? (1.40 MB/s)\n",
      "pkgs/main/linux-64       [=>                ] (00m:00s) 644 KB / ?? (2.09 MB/s)\n",
      "pkgs/r/noarch            [=>              ] (00m:00s) 264 KB / ?? (872.02 KB/s)\n",
      "pkgs/r/linux-64          [=>                ] (00m:00s) 432 KB / ?? (1.40 MB/s)\n",
      "pkgs/main/linux-64       [=>                ] (00m:00s) 644 KB / ?? (2.09 MB/s)\n",
      "pkgs/r/noarch            [<=>                 ] (00m:00s) Finalizing...\n",
      "pkgs/r/linux-64          [=>                ] (00m:00s) 432 KB / ?? (1.40 MB/s)\n",
      "pkgs/main/linux-64       [=>                ] (00m:00s) 644 KB / ?? (2.09 MB/s)\n",
      "pkgs/r/noarch            [<=>                 ] (00m:00s) Done\n",
      "pkgs/r/noarch            [====================] (00m:00s) Done\n",
      "pkgs/r/linux-64          [=>                ] (00m:00s) 432 KB / ?? (1.40 MB/s)\n",
      "pkgs/main/linux-64       [=>                ] (00m:00s) 644 KB / ?? (2.09 MB/s)\n",
      "pkgs/r/linux-64          [<=>                 ] (00m:00s) Finalizing...\n",
      "pkgs/main/linux-64       [=>                ] (00m:00s) 644 KB / ?? (2.09 MB/s)\n",
      "pkgs/r/linux-64          [<=>                 ] (00m:00s) Done\n",
      "pkgs/main/linux-64       [=>                ] (00m:00s) 644 KB / ?? (2.09 MB/s)\n",
      "pkgs/r/linux-64          [====================] (00m:00s) Done\n",
      "pkgs/main/linux-64       [=>                ] (00m:00s) 644 KB / ?? (2.09 MB/s)\n",
      "pkgs/main/linux-64       [<=>               ] (00m:00s) 644 KB / ?? (2.09 MB/s)\n",
      "pkgs/main/linux-64       [ <=>                ] (00m:00s) 1 MB / ?? (2.64 MB/s)\n",
      "pkgs/main/linux-64       [  <=>               ] (00m:00s) 1 MB / ?? (2.64 MB/s)\n",
      "pkgs/main/linux-64       [  <=>               ] (00m:00s) 2 MB / ?? (3.58 MB/s)\n",
      "pkgs/main/linux-64       [   <=>              ] (00m:00s) 2 MB / ?? (3.58 MB/s)\n",
      "pkgs/main/linux-64       [   <=>              ] (00m:00s) 3 MB / ?? (3.85 MB/s)\n",
      "pkgs/main/linux-64       [    <=>             ] (00m:00s) 3 MB / ?? (3.85 MB/s)\n",
      "pkgs/main/linux-64       [    <=>             ] (00m:00s) 4 MB / ?? (4.04 MB/s)\n",
      "pkgs/main/linux-64       [    <=>             ] (00m:00s) Finalizing...\n",
      "pkgs/main/linux-64       [    <=>             ] (00m:00s) Done\n",
      "pkgs/main/linux-64       [====================] (00m:00s) Done\n",
      "\n",
      "Pinned packages:\n",
      "  - python 3.7.*\n",
      "\n",
      "\n",
      "Encountered problems while solving:\n",
      "  - nothing provides requested sklearn 0.20.1-y**\n",
      "\n"
     ]
    }
   ],
   "source": [
    "#install specific version of libraries used in lab\n",
    "#! mamba install pandas==1.3.3-y\n",
    "#! mamba install numpy=1.21.2-y\n",
    "!mamba install sklearn=0.20.1-y"
   ]
  },
  {
   "cell_type": "code",
   "execution_count": 2,
   "metadata": {},
   "outputs": [],
   "source": [
    "import pandas as pd\n",
    "import numpy as np\n",
    "import matplotlib.pyplot as plt"
   ]
  },
  {
   "cell_type": "markdown",
   "metadata": {},
   "source": [
    "Load the data and store it in dataframe `df`:\n"
   ]
  },
  {
   "cell_type": "markdown",
   "metadata": {},
   "source": [
    "This dataset was hosted on IBM Cloud object. Click <a href=\"https://cocl.us/DA101EN_object_storage?utm_medium=Exinfluencer&utm_source=Exinfluencer&utm_content=000026UJ&utm_term=10006555&utm_id=NA-SkillsNetwork-Channel-SkillsNetworkCoursesIBMDeveloperSkillsNetworkDA0101ENSkillsNetwork20235326-2021-01-01\">HERE</a> for free storage.\n"
   ]
  },
  {
   "cell_type": "code",
   "execution_count": 3,
   "metadata": {},
   "outputs": [
    {
     "data": {
      "text/html": [
       "<div>\n",
       "<style scoped>\n",
       "    .dataframe tbody tr th:only-of-type {\n",
       "        vertical-align: middle;\n",
       "    }\n",
       "\n",
       "    .dataframe tbody tr th {\n",
       "        vertical-align: top;\n",
       "    }\n",
       "\n",
       "    .dataframe thead th {\n",
       "        text-align: right;\n",
       "    }\n",
       "</style>\n",
       "<table border=\"1\" class=\"dataframe\">\n",
       "  <thead>\n",
       "    <tr style=\"text-align: right;\">\n",
       "      <th></th>\n",
       "      <th>symboling</th>\n",
       "      <th>normalized-losses</th>\n",
       "      <th>make</th>\n",
       "      <th>aspiration</th>\n",
       "      <th>num-of-doors</th>\n",
       "      <th>body-style</th>\n",
       "      <th>drive-wheels</th>\n",
       "      <th>engine-location</th>\n",
       "      <th>wheel-base</th>\n",
       "      <th>length</th>\n",
       "      <th>...</th>\n",
       "      <th>compression-ratio</th>\n",
       "      <th>horsepower</th>\n",
       "      <th>peak-rpm</th>\n",
       "      <th>city-mpg</th>\n",
       "      <th>highway-mpg</th>\n",
       "      <th>price</th>\n",
       "      <th>city-L/100km</th>\n",
       "      <th>horsepower-binned</th>\n",
       "      <th>diesel</th>\n",
       "      <th>gas</th>\n",
       "    </tr>\n",
       "  </thead>\n",
       "  <tbody>\n",
       "    <tr>\n",
       "      <th>0</th>\n",
       "      <td>3</td>\n",
       "      <td>122</td>\n",
       "      <td>alfa-romero</td>\n",
       "      <td>std</td>\n",
       "      <td>two</td>\n",
       "      <td>convertible</td>\n",
       "      <td>rwd</td>\n",
       "      <td>front</td>\n",
       "      <td>88.6</td>\n",
       "      <td>0.811148</td>\n",
       "      <td>...</td>\n",
       "      <td>9.0</td>\n",
       "      <td>111.0</td>\n",
       "      <td>5000.0</td>\n",
       "      <td>21</td>\n",
       "      <td>27</td>\n",
       "      <td>13495.0</td>\n",
       "      <td>11.190476</td>\n",
       "      <td>Medium</td>\n",
       "      <td>0</td>\n",
       "      <td>1</td>\n",
       "    </tr>\n",
       "    <tr>\n",
       "      <th>1</th>\n",
       "      <td>3</td>\n",
       "      <td>122</td>\n",
       "      <td>alfa-romero</td>\n",
       "      <td>std</td>\n",
       "      <td>two</td>\n",
       "      <td>convertible</td>\n",
       "      <td>rwd</td>\n",
       "      <td>front</td>\n",
       "      <td>88.6</td>\n",
       "      <td>0.811148</td>\n",
       "      <td>...</td>\n",
       "      <td>9.0</td>\n",
       "      <td>111.0</td>\n",
       "      <td>5000.0</td>\n",
       "      <td>21</td>\n",
       "      <td>27</td>\n",
       "      <td>16500.0</td>\n",
       "      <td>11.190476</td>\n",
       "      <td>Medium</td>\n",
       "      <td>0</td>\n",
       "      <td>1</td>\n",
       "    </tr>\n",
       "    <tr>\n",
       "      <th>2</th>\n",
       "      <td>1</td>\n",
       "      <td>122</td>\n",
       "      <td>alfa-romero</td>\n",
       "      <td>std</td>\n",
       "      <td>two</td>\n",
       "      <td>hatchback</td>\n",
       "      <td>rwd</td>\n",
       "      <td>front</td>\n",
       "      <td>94.5</td>\n",
       "      <td>0.822681</td>\n",
       "      <td>...</td>\n",
       "      <td>9.0</td>\n",
       "      <td>154.0</td>\n",
       "      <td>5000.0</td>\n",
       "      <td>19</td>\n",
       "      <td>26</td>\n",
       "      <td>16500.0</td>\n",
       "      <td>12.368421</td>\n",
       "      <td>Medium</td>\n",
       "      <td>0</td>\n",
       "      <td>1</td>\n",
       "    </tr>\n",
       "    <tr>\n",
       "      <th>3</th>\n",
       "      <td>2</td>\n",
       "      <td>164</td>\n",
       "      <td>audi</td>\n",
       "      <td>std</td>\n",
       "      <td>four</td>\n",
       "      <td>sedan</td>\n",
       "      <td>fwd</td>\n",
       "      <td>front</td>\n",
       "      <td>99.8</td>\n",
       "      <td>0.848630</td>\n",
       "      <td>...</td>\n",
       "      <td>10.0</td>\n",
       "      <td>102.0</td>\n",
       "      <td>5500.0</td>\n",
       "      <td>24</td>\n",
       "      <td>30</td>\n",
       "      <td>13950.0</td>\n",
       "      <td>9.791667</td>\n",
       "      <td>Medium</td>\n",
       "      <td>0</td>\n",
       "      <td>1</td>\n",
       "    </tr>\n",
       "    <tr>\n",
       "      <th>4</th>\n",
       "      <td>2</td>\n",
       "      <td>164</td>\n",
       "      <td>audi</td>\n",
       "      <td>std</td>\n",
       "      <td>four</td>\n",
       "      <td>sedan</td>\n",
       "      <td>4wd</td>\n",
       "      <td>front</td>\n",
       "      <td>99.4</td>\n",
       "      <td>0.848630</td>\n",
       "      <td>...</td>\n",
       "      <td>8.0</td>\n",
       "      <td>115.0</td>\n",
       "      <td>5500.0</td>\n",
       "      <td>18</td>\n",
       "      <td>22</td>\n",
       "      <td>17450.0</td>\n",
       "      <td>13.055556</td>\n",
       "      <td>Medium</td>\n",
       "      <td>0</td>\n",
       "      <td>1</td>\n",
       "    </tr>\n",
       "  </tbody>\n",
       "</table>\n",
       "<p>5 rows × 29 columns</p>\n",
       "</div>"
      ],
      "text/plain": [
       "   symboling  normalized-losses         make aspiration num-of-doors  \\\n",
       "0          3                122  alfa-romero        std          two   \n",
       "1          3                122  alfa-romero        std          two   \n",
       "2          1                122  alfa-romero        std          two   \n",
       "3          2                164         audi        std         four   \n",
       "4          2                164         audi        std         four   \n",
       "\n",
       "    body-style drive-wheels engine-location  wheel-base    length  ...  \\\n",
       "0  convertible          rwd           front        88.6  0.811148  ...   \n",
       "1  convertible          rwd           front        88.6  0.811148  ...   \n",
       "2    hatchback          rwd           front        94.5  0.822681  ...   \n",
       "3        sedan          fwd           front        99.8  0.848630  ...   \n",
       "4        sedan          4wd           front        99.4  0.848630  ...   \n",
       "\n",
       "   compression-ratio  horsepower  peak-rpm city-mpg highway-mpg    price  \\\n",
       "0                9.0       111.0    5000.0       21          27  13495.0   \n",
       "1                9.0       111.0    5000.0       21          27  16500.0   \n",
       "2                9.0       154.0    5000.0       19          26  16500.0   \n",
       "3               10.0       102.0    5500.0       24          30  13950.0   \n",
       "4                8.0       115.0    5500.0       18          22  17450.0   \n",
       "\n",
       "  city-L/100km  horsepower-binned  diesel  gas  \n",
       "0    11.190476             Medium       0    1  \n",
       "1    11.190476             Medium       0    1  \n",
       "2    12.368421             Medium       0    1  \n",
       "3     9.791667             Medium       0    1  \n",
       "4    13.055556             Medium       0    1  \n",
       "\n",
       "[5 rows x 29 columns]"
      ]
     },
     "execution_count": 3,
     "metadata": {},
     "output_type": "execute_result"
    }
   ],
   "source": [
    "# path of data \n",
    "path = 'https://cf-courses-data.s3.us.cloud-object-storage.appdomain.cloud/IBMDeveloperSkillsNetwork-DA0101EN-SkillsNetwork/labs/Data%20files/automobileEDA.csv'\n",
    "df = pd.read_csv(path)\n",
    "df.head()"
   ]
  },
  {
   "cell_type": "markdown",
   "metadata": {},
   "source": [
    "<h2>1. Linear Regression and Multiple Linear Regression</h2>\n"
   ]
  },
  {
   "cell_type": "markdown",
   "metadata": {},
   "source": [
    "<h4>Linear Regression</h4>\n"
   ]
  },
  {
   "cell_type": "markdown",
   "metadata": {},
   "source": [
    "<p>One example of a Data  Model that we will be using is:</p>\n",
    "<b>Simple Linear Regression</b>\n",
    "\n",
    "<br>\n",
    "<p>Simple Linear Regression is a method to help us understand the relationship between two variables:</p>\n",
    "<ul>\n",
    "    <li>The predictor/independent variable (X)</li>\n",
    "    <li>The response/dependent variable (that we want to predict)(Y)</li>\n",
    "</ul>\n",
    "\n",
    "<p>The result of Linear Regression is a <b>linear function</b> that predicts the response (dependent) variable as a function of the predictor (independent) variable.</p>\n"
   ]
  },
  {
   "cell_type": "markdown",
   "metadata": {},
   "source": [
    "$$\n",
    "Y: Response \\ Variable\\\\\\\\\n",
    "X: Predictor \\ Variables\n",
    "$$\n"
   ]
  },
  {
   "cell_type": "markdown",
   "metadata": {},
   "source": [
    "<b>Linear Function</b>\n",
    "$$\n",
    "Yhat = a + b  X\n",
    "$$\n"
   ]
  },
  {
   "cell_type": "markdown",
   "metadata": {},
   "source": [
    "<ul>\n",
    "    <li>a refers to the <b>intercept</b> of the regression line, in other words: the value of Y when X is 0</li>\n",
    "    <li>b refers to the <b>slope</b> of the regression line, in other words: the value with which Y changes when X increases by 1 unit</li>\n",
    "</ul>\n"
   ]
  },
  {
   "cell_type": "markdown",
   "metadata": {},
   "source": [
    "<h4>Let's load the modules for linear regression:</h4>\n"
   ]
  },
  {
   "cell_type": "code",
   "execution_count": 12,
   "metadata": {},
   "outputs": [],
   "source": [
    "from sklearn.linear_model import LinearRegression"
   ]
  },
  {
   "cell_type": "markdown",
   "metadata": {},
   "source": [
    "<h4>Create the linear regression object:</h4>\n"
   ]
  },
  {
   "cell_type": "code",
   "execution_count": 13,
   "metadata": {},
   "outputs": [
    {
     "data": {
      "text/plain": [
       "LinearRegression(copy_X=True, fit_intercept=True, n_jobs=None,\n",
       "         normalize=False)"
      ]
     },
     "execution_count": 13,
     "metadata": {},
     "output_type": "execute_result"
    }
   ],
   "source": [
    "lm = LinearRegression()\n",
    "lm"
   ]
  },
  {
   "cell_type": "markdown",
   "metadata": {},
   "source": [
    "<h4>How could \"highway-mpg\" help us predict car price?</h4>\n"
   ]
  },
  {
   "cell_type": "markdown",
   "metadata": {},
   "source": [
    "For this example, we want to look at how highway-mpg can help us predict car price.\n",
    "Using simple linear regression, we will create a linear function with \"highway-mpg\" as the predictor variable and the \"price\" as the response variable.\n"
   ]
  },
  {
   "cell_type": "code",
   "execution_count": 67,
   "metadata": {},
   "outputs": [],
   "source": [
    "X = df[['highway-mpg']]\n",
    "Y = df['price']"
   ]
  },
  {
   "cell_type": "markdown",
   "metadata": {},
   "source": [
    "Fit the linear model using highway-mpg:\n"
   ]
  },
  {
   "cell_type": "code",
   "execution_count": 15,
   "metadata": {},
   "outputs": [
    {
     "data": {
      "text/plain": [
       "LinearRegression(copy_X=True, fit_intercept=True, n_jobs=None,\n",
       "         normalize=False)"
      ]
     },
     "execution_count": 15,
     "metadata": {},
     "output_type": "execute_result"
    }
   ],
   "source": [
    "lm.fit(X,Y)"
   ]
  },
  {
   "cell_type": "markdown",
   "metadata": {},
   "source": [
    "We can output a prediction:\n"
   ]
  },
  {
   "cell_type": "code",
   "execution_count": 16,
   "metadata": {},
   "outputs": [
    {
     "data": {
      "text/plain": [
       "0    13495.0\n",
       "1    16500.0\n",
       "2    16500.0\n",
       "3    13950.0\n",
       "4    17450.0\n",
       "5    15250.0\n",
       "6    17710.0\n",
       "7    18920.0\n",
       "8    23875.0\n",
       "9    16430.0\n",
       "Name: price, dtype: float64"
      ]
     },
     "execution_count": 16,
     "metadata": {},
     "output_type": "execute_result"
    }
   ],
   "source": [
    "Y[0:10]"
   ]
  },
  {
   "cell_type": "code",
   "execution_count": 17,
   "metadata": {},
   "outputs": [
    {
     "data": {
      "text/plain": [
       "array([16236.50464347, 16236.50464347, 17058.23802179, 13771.3045085 ,\n",
       "       20345.17153508, 17879.97140011, 17879.97140011, 17879.97140011,\n",
       "       21988.63829172, 14593.03788682])"
      ]
     },
     "execution_count": 17,
     "metadata": {},
     "output_type": "execute_result"
    }
   ],
   "source": [
    "Yhat=lm.predict(X)\n",
    "Yhat[0:10]   "
   ]
  },
  {
   "cell_type": "markdown",
   "metadata": {},
   "source": [
    "<h4>What is the value of the intercept (a)?</h4>\n"
   ]
  },
  {
   "cell_type": "code",
   "execution_count": 18,
   "metadata": {},
   "outputs": [
    {
     "data": {
      "text/plain": [
       "38423.3058581574"
      ]
     },
     "execution_count": 18,
     "metadata": {},
     "output_type": "execute_result"
    }
   ],
   "source": [
    "lm.intercept_"
   ]
  },
  {
   "cell_type": "markdown",
   "metadata": {},
   "source": [
    "<h4>What is the value of the slope (b)?</h4>\n"
   ]
  },
  {
   "cell_type": "code",
   "execution_count": 19,
   "metadata": {
    "scrolled": true
   },
   "outputs": [
    {
     "data": {
      "text/plain": [
       "array([-821.73337832])"
      ]
     },
     "execution_count": 19,
     "metadata": {},
     "output_type": "execute_result"
    }
   ],
   "source": [
    "lm.coef_"
   ]
  },
  {
   "cell_type": "markdown",
   "metadata": {},
   "source": [
    "<h3>What is the final estimated linear model we get?</h3>\n"
   ]
  },
  {
   "cell_type": "markdown",
   "metadata": {},
   "source": [
    "As we saw above, we should get a final linear model with the structure:\n"
   ]
  },
  {
   "cell_type": "markdown",
   "metadata": {},
   "source": [
    "$$\n",
    "Yhat = a + b  X\n",
    "$$\n"
   ]
  },
  {
   "cell_type": "markdown",
   "metadata": {},
   "source": [
    "Plugging in the actual values we get:\n"
   ]
  },
  {
   "cell_type": "markdown",
   "metadata": {},
   "source": [
    "<b>Price</b> = 38423.31 - 821.73 x <b>highway-mpg</b>\n"
   ]
  },
  {
   "cell_type": "markdown",
   "metadata": {},
   "source": [
    "<div class=\"alert alert-danger alertdanger\" style=\"margin-top: 20px\">\n",
    "<h1>Question #1 a): </h1>\n",
    "\n",
    "<b>Create a linear regression object called \"lm1\".</b>\n",
    "\n",
    "</div>\n"
   ]
  },
  {
   "cell_type": "code",
   "execution_count": 20,
   "metadata": {},
   "outputs": [
    {
     "data": {
      "text/plain": [
       "LinearRegression(copy_X=True, fit_intercept=True, n_jobs=None,\n",
       "         normalize=False)"
      ]
     },
     "execution_count": 20,
     "metadata": {},
     "output_type": "execute_result"
    }
   ],
   "source": [
    "# Write your code below and press Shift+Enter to execute \n",
    "lm1 = LinearRegression()\n",
    "lm1"
   ]
  },
  {
   "cell_type": "markdown",
   "metadata": {},
   "source": [
    "<details><summary>Click here for the solution</summary>\n",
    "\n",
    "```python\n",
    "lm1 = LinearRegression()\n",
    "lm1\n",
    "```\n",
    "\n",
    "</details>\n"
   ]
  },
  {
   "cell_type": "markdown",
   "metadata": {},
   "source": [
    "<div class=\"alert alert-danger alertdanger\" style=\"margin-top: 20px\">\n",
    "<h1> Question #1 b): </h1>\n",
    "\n",
    "<b>Train the model using \"engine-size\" as the independent variable and \"price\" as the dependent variable?</b>\n",
    "\n",
    "</div>\n"
   ]
  },
  {
   "cell_type": "code",
   "execution_count": 21,
   "metadata": {},
   "outputs": [
    {
     "data": {
      "text/plain": [
       "LinearRegression(copy_X=True, fit_intercept=True, n_jobs=None,\n",
       "         normalize=False)"
      ]
     },
     "execution_count": 21,
     "metadata": {},
     "output_type": "execute_result"
    }
   ],
   "source": [
    "# Write your code below and press Shift+Enter to execute \n",
    "X = df[['engine-size']]\n",
    "X\n",
    "Y = df['price']\n",
    "lm1.fit(X,Y)"
   ]
  },
  {
   "cell_type": "markdown",
   "metadata": {},
   "source": [
    "<details><summary>Click here for the solution</summary>\n",
    "\n",
    "```python\n",
    "lm1.fit(df[['engine-size']], df[['price']])\n",
    "lm1\n",
    "```\n",
    "\n",
    "</details>\n"
   ]
  },
  {
   "cell_type": "markdown",
   "metadata": {},
   "source": [
    "<div class=\"alert alert-danger alertdanger\" style=\"margin-top: 20px\">\n",
    "<h1>Question #1 c):</h1>\n",
    "\n",
    "<b>Find the slope and intercept of the model.</b>\n",
    "\n",
    "</div>\n"
   ]
  },
  {
   "cell_type": "markdown",
   "metadata": {},
   "source": [
    "<h4>Slope</h4>\n"
   ]
  },
  {
   "cell_type": "code",
   "execution_count": 22,
   "metadata": {},
   "outputs": [
    {
     "data": {
      "text/plain": [
       "array([166.86001569])"
      ]
     },
     "execution_count": 22,
     "metadata": {},
     "output_type": "execute_result"
    }
   ],
   "source": [
    "# Write your code below and press Shift+Enter to execute \n",
    "lm1.coef_"
   ]
  },
  {
   "cell_type": "markdown",
   "metadata": {},
   "source": [
    "<h4>Intercept</h4>\n"
   ]
  },
  {
   "cell_type": "code",
   "execution_count": 23,
   "metadata": {},
   "outputs": [
    {
     "data": {
      "text/plain": [
       "-7963.338906281046"
      ]
     },
     "execution_count": 23,
     "metadata": {},
     "output_type": "execute_result"
    }
   ],
   "source": [
    "# Write your code below and press Shift+Enter to execute \n",
    "lm1.intercept_"
   ]
  },
  {
   "cell_type": "markdown",
   "metadata": {},
   "source": [
    "<details><summary>Click here for the solution</summary>\n",
    "\n",
    "```python\n",
    "# Slope \n",
    "lm1.coef_\n",
    "\n",
    "# Intercept\n",
    "lm1.intercept_\n",
    "```\n",
    "\n",
    "</details>\n"
   ]
  },
  {
   "cell_type": "markdown",
   "metadata": {},
   "source": [
    "<div class=\"alert alert-danger alertdanger\" style=\"margin-top: 20px\">\n",
    "<h1>Question #1 d): </h1>\n",
    "\n",
    "<b>What is the equation of the predicted line? You can use x and yhat or \"engine-size\" or \"price\".</b>\n",
    "\n",
    "</div>\n"
   ]
  },
  {
   "cell_type": "code",
   "execution_count": 24,
   "metadata": {},
   "outputs": [
    {
     "name": "stdout",
     "output_type": "stream",
     "text": [
      "prize =  -7963.338906281046  +  166.86001569141598  x  engine-size\n"
     ]
    }
   ],
   "source": [
    "# Write your code below and press Shift+Enter to execute \n",
    "print('prize = ', lm1.intercept_, ' + ' , lm1.coef_[0] , ' x ', 'engine-size')"
   ]
  },
  {
   "cell_type": "markdown",
   "metadata": {},
   "source": [
    "<details><summary>Click here for the solution</summary>\n",
    "\n",
    "```python\n",
    "# using X and Y  \n",
    "Yhat=-7963.34 + 166.86*X\n",
    "\n",
    "Price=-7963.34 + 166.86*engine-size\n",
    "\n",
    "```\n",
    "\n",
    "</details>\n"
   ]
  },
  {
   "cell_type": "markdown",
   "metadata": {},
   "source": [
    "<h4>Multiple Linear Regression</h4>\n"
   ]
  },
  {
   "cell_type": "markdown",
   "metadata": {},
   "source": [
    "<p>What if we want to predict car price using more than one variable?</p>\n",
    "\n",
    "<p>If we want to use more variables in our model to predict car price, we can use <b>Multiple Linear Regression</b>.\n",
    "Multiple Linear Regression is very similar to Simple Linear Regression, but this method is used to explain the relationship between one continuous response (dependent) variable and <b>two or more</b> predictor (independent) variables.\n",
    "Most of the real-world regression models involve multiple predictors. We will illustrate the structure by using four predictor variables, but these results can generalize to any integer:</p>\n"
   ]
  },
  {
   "cell_type": "markdown",
   "metadata": {},
   "source": [
    "$$\n",
    "Y: Response \\ Variable\\\\\\\\\n",
    "X\\_1 :Predictor\\ Variable \\ 1\\\\\\\\\n",
    "X\\_2: Predictor\\ Variable \\ 2\\\\\\\\\n",
    "X\\_3: Predictor\\ Variable \\ 3\\\\\\\\\n",
    "X\\_4: Predictor\\ Variable \\ 4\\\\\\\\\n",
    "$$\n"
   ]
  },
  {
   "cell_type": "markdown",
   "metadata": {},
   "source": [
    "$$\n",
    "a: intercept\\\\\\\\\n",
    "b\\_1 :coefficients \\ of\\ Variable \\ 1\\\\\\\\\n",
    "b\\_2: coefficients \\ of\\ Variable \\ 2\\\\\\\\\n",
    "b\\_3: coefficients \\ of\\ Variable \\ 3\\\\\\\\\n",
    "b\\_4: coefficients \\ of\\ Variable \\ 4\\\\\\\\\n",
    "$$\n"
   ]
  },
  {
   "cell_type": "markdown",
   "metadata": {},
   "source": [
    "The equation is given by:\n"
   ]
  },
  {
   "cell_type": "markdown",
   "metadata": {},
   "source": [
    "$$\n",
    "Yhat = a + b\\_1 X\\_1 + b\\_2 X\\_2 + b\\_3 X\\_3 + b\\_4 X\\_4\n",
    "$$\n"
   ]
  },
  {
   "cell_type": "markdown",
   "metadata": {},
   "source": [
    "<p>From the previous section  we know that other good predictors of price could be:</p>\n",
    "<ul>\n",
    "    <li>Horsepower</li>\n",
    "    <li>Curb-weight</li>\n",
    "    <li>Engine-size</li>\n",
    "    <li>Highway-mpg</li>\n",
    "</ul>\n",
    "Let's develop a model using these variables as the predictor variables.\n"
   ]
  },
  {
   "cell_type": "code",
   "execution_count": 25,
   "metadata": {},
   "outputs": [],
   "source": [
    "Z = df[['horsepower', 'curb-weight', 'engine-size', 'highway-mpg']]"
   ]
  },
  {
   "cell_type": "markdown",
   "metadata": {},
   "source": [
    "Fit the linear model using the four above-mentioned variables.\n"
   ]
  },
  {
   "cell_type": "code",
   "execution_count": 26,
   "metadata": {},
   "outputs": [
    {
     "data": {
      "text/html": [
       "<div>\n",
       "<style scoped>\n",
       "    .dataframe tbody tr th:only-of-type {\n",
       "        vertical-align: middle;\n",
       "    }\n",
       "\n",
       "    .dataframe tbody tr th {\n",
       "        vertical-align: top;\n",
       "    }\n",
       "\n",
       "    .dataframe thead th {\n",
       "        text-align: right;\n",
       "    }\n",
       "</style>\n",
       "<table border=\"1\" class=\"dataframe\">\n",
       "  <thead>\n",
       "    <tr style=\"text-align: right;\">\n",
       "      <th></th>\n",
       "      <th>horsepower</th>\n",
       "      <th>curb-weight</th>\n",
       "      <th>engine-size</th>\n",
       "      <th>highway-mpg</th>\n",
       "    </tr>\n",
       "  </thead>\n",
       "  <tbody>\n",
       "    <tr>\n",
       "      <th>0</th>\n",
       "      <td>111.0</td>\n",
       "      <td>2548</td>\n",
       "      <td>130</td>\n",
       "      <td>27</td>\n",
       "    </tr>\n",
       "    <tr>\n",
       "      <th>1</th>\n",
       "      <td>111.0</td>\n",
       "      <td>2548</td>\n",
       "      <td>130</td>\n",
       "      <td>27</td>\n",
       "    </tr>\n",
       "    <tr>\n",
       "      <th>2</th>\n",
       "      <td>154.0</td>\n",
       "      <td>2823</td>\n",
       "      <td>152</td>\n",
       "      <td>26</td>\n",
       "    </tr>\n",
       "    <tr>\n",
       "      <th>3</th>\n",
       "      <td>102.0</td>\n",
       "      <td>2337</td>\n",
       "      <td>109</td>\n",
       "      <td>30</td>\n",
       "    </tr>\n",
       "    <tr>\n",
       "      <th>4</th>\n",
       "      <td>115.0</td>\n",
       "      <td>2824</td>\n",
       "      <td>136</td>\n",
       "      <td>22</td>\n",
       "    </tr>\n",
       "    <tr>\n",
       "      <th>...</th>\n",
       "      <td>...</td>\n",
       "      <td>...</td>\n",
       "      <td>...</td>\n",
       "      <td>...</td>\n",
       "    </tr>\n",
       "    <tr>\n",
       "      <th>196</th>\n",
       "      <td>114.0</td>\n",
       "      <td>2952</td>\n",
       "      <td>141</td>\n",
       "      <td>28</td>\n",
       "    </tr>\n",
       "    <tr>\n",
       "      <th>197</th>\n",
       "      <td>160.0</td>\n",
       "      <td>3049</td>\n",
       "      <td>141</td>\n",
       "      <td>25</td>\n",
       "    </tr>\n",
       "    <tr>\n",
       "      <th>198</th>\n",
       "      <td>134.0</td>\n",
       "      <td>3012</td>\n",
       "      <td>173</td>\n",
       "      <td>23</td>\n",
       "    </tr>\n",
       "    <tr>\n",
       "      <th>199</th>\n",
       "      <td>106.0</td>\n",
       "      <td>3217</td>\n",
       "      <td>145</td>\n",
       "      <td>27</td>\n",
       "    </tr>\n",
       "    <tr>\n",
       "      <th>200</th>\n",
       "      <td>114.0</td>\n",
       "      <td>3062</td>\n",
       "      <td>141</td>\n",
       "      <td>25</td>\n",
       "    </tr>\n",
       "  </tbody>\n",
       "</table>\n",
       "<p>201 rows × 4 columns</p>\n",
       "</div>"
      ],
      "text/plain": [
       "     horsepower  curb-weight  engine-size  highway-mpg\n",
       "0         111.0         2548          130           27\n",
       "1         111.0         2548          130           27\n",
       "2         154.0         2823          152           26\n",
       "3         102.0         2337          109           30\n",
       "4         115.0         2824          136           22\n",
       "..          ...          ...          ...          ...\n",
       "196       114.0         2952          141           28\n",
       "197       160.0         3049          141           25\n",
       "198       134.0         3012          173           23\n",
       "199       106.0         3217          145           27\n",
       "200       114.0         3062          141           25\n",
       "\n",
       "[201 rows x 4 columns]"
      ]
     },
     "execution_count": 26,
     "metadata": {},
     "output_type": "execute_result"
    }
   ],
   "source": [
    "Z"
   ]
  },
  {
   "cell_type": "code",
   "execution_count": 27,
   "metadata": {},
   "outputs": [
    {
     "data": {
      "text/plain": [
       "LinearRegression(copy_X=True, fit_intercept=True, n_jobs=None,\n",
       "         normalize=False)"
      ]
     },
     "execution_count": 27,
     "metadata": {},
     "output_type": "execute_result"
    }
   ],
   "source": [
    "lm.fit(Z, df['price'])"
   ]
  },
  {
   "cell_type": "markdown",
   "metadata": {},
   "source": [
    "What is the value of the intercept(a)?\n"
   ]
  },
  {
   "cell_type": "code",
   "execution_count": 28,
   "metadata": {},
   "outputs": [
    {
     "data": {
      "text/plain": [
       "-15806.624626329194"
      ]
     },
     "execution_count": 28,
     "metadata": {},
     "output_type": "execute_result"
    }
   ],
   "source": [
    "lm.intercept_"
   ]
  },
  {
   "cell_type": "markdown",
   "metadata": {},
   "source": [
    "What are the values of the coefficients (b1, b2, b3, b4)?\n"
   ]
  },
  {
   "cell_type": "code",
   "execution_count": 29,
   "metadata": {},
   "outputs": [
    {
     "data": {
      "text/plain": [
       "array([53.49574423,  4.70770099, 81.53026382, 36.05748882])"
      ]
     },
     "execution_count": 29,
     "metadata": {},
     "output_type": "execute_result"
    }
   ],
   "source": [
    "lm.coef_"
   ]
  },
  {
   "cell_type": "markdown",
   "metadata": {},
   "source": [
    "What is the final estimated linear model that we get?\n"
   ]
  },
  {
   "cell_type": "markdown",
   "metadata": {},
   "source": [
    "As we saw above, we should get a final linear function with the structure:\n",
    "\n",
    "$$\n",
    "Yhat = a + b\\_1 X\\_1 + b\\_2 X\\_2 + b\\_3 X\\_3 + b\\_4 X\\_4\n",
    "$$\n",
    "\n",
    "What is the linear function we get in this example?\n"
   ]
  },
  {
   "cell_type": "markdown",
   "metadata": {},
   "source": [
    "<b>Price</b> = -15678.742628061467 + 52.65851272 x <b>horsepower</b> + 4.69878948 x <b>curb-weight</b> + 81.95906216 x <b>engine-size</b> + 33.58258185 x <b>highway-mpg</b>\n"
   ]
  },
  {
   "cell_type": "markdown",
   "metadata": {},
   "source": [
    "<div class=\"alert alert-danger alertdanger\" style=\"margin-top: 20px\">\n",
    "<h1> Question  #2 a): </h1>\n",
    "Create and train a Multiple Linear Regression model \"lm2\" where the response variable is \"price\", and the predictor variable is \"normalized-losses\" and  \"highway-mpg\".\n",
    "</div>\n"
   ]
  },
  {
   "cell_type": "code",
   "execution_count": 30,
   "metadata": {},
   "outputs": [
    {
     "data": {
      "text/plain": [
       "LinearRegression(copy_X=True, fit_intercept=True, n_jobs=None,\n",
       "         normalize=False)"
      ]
     },
     "execution_count": 30,
     "metadata": {},
     "output_type": "execute_result"
    }
   ],
   "source": [
    "# Write your code below and press Shift+Enter to execute \n",
    "lm2 = LinearRegression()\n",
    "A = df[['normalized-losses','highway-mpg']]\n",
    "B = df['price']\n",
    "lm2.fit(A, B)"
   ]
  },
  {
   "cell_type": "markdown",
   "metadata": {},
   "source": [
    "<details><summary>Click here for the solution</summary>\n",
    "\n",
    "```python\n",
    "lm2 = LinearRegression()\n",
    "lm2.fit(df[['normalized-losses' , 'highway-mpg']],df['price'])\n",
    "\n",
    "\n",
    "```\n",
    "\n",
    "</details>\n"
   ]
  },
  {
   "cell_type": "markdown",
   "metadata": {},
   "source": [
    "<div class=\"alert alert-danger alertdanger\" style=\"margin-top: 20px\">\n",
    "<h1>Question  #2 b): </h1>\n",
    "<b>Find the coefficient of the model.</b>\n",
    "</div>\n"
   ]
  },
  {
   "cell_type": "code",
   "execution_count": 31,
   "metadata": {},
   "outputs": [
    {
     "data": {
      "text/plain": [
       "array([   1.49789586, -820.45434016])"
      ]
     },
     "execution_count": 31,
     "metadata": {},
     "output_type": "execute_result"
    }
   ],
   "source": [
    "# Write your code below and press Shift+Enter to execute \n",
    "lm2.coef_"
   ]
  },
  {
   "cell_type": "markdown",
   "metadata": {},
   "source": [
    "<details><summary>Click here for the solution</summary>\n",
    "\n",
    "```python\n",
    "lm2.coef_\n",
    "\n",
    "```\n",
    "\n",
    "</details>\n"
   ]
  },
  {
   "cell_type": "markdown",
   "metadata": {},
   "source": [
    "<h2>2. Model Evaluation Using Visualization</h2>\n"
   ]
  },
  {
   "cell_type": "markdown",
   "metadata": {},
   "source": [
    "Now that we've developed some models, how do we evaluate our models and choose the best one? One way to do this is by using a visualization.\n"
   ]
  },
  {
   "cell_type": "markdown",
   "metadata": {},
   "source": [
    "Import the visualization package, seaborn:\n"
   ]
  },
  {
   "cell_type": "code",
   "execution_count": 32,
   "metadata": {},
   "outputs": [],
   "source": [
    "# import the visualization package: seaborn\n",
    "import seaborn as sns\n",
    "%matplotlib inline "
   ]
  },
  {
   "cell_type": "markdown",
   "metadata": {},
   "source": [
    "<h3>Regression Plot</h3>\n"
   ]
  },
  {
   "cell_type": "markdown",
   "metadata": {},
   "source": [
    "<p>When it comes to simple linear regression, an excellent way to visualize the fit of our model is by using <b>regression plots</b>.</p>\n",
    "\n",
    "<p>This plot will show a combination of a scattered data points (a <b>scatterplot</b>), as well as the fitted <b>linear regression</b> line going through the data. This will give us a reasonable estimate of the relationship between the two variables, the strength of the correlation, as well as the direction (positive or negative correlation).</p>\n"
   ]
  },
  {
   "cell_type": "markdown",
   "metadata": {},
   "source": [
    "Let's visualize **highway-mpg** as potential predictor variable of price:\n"
   ]
  },
  {
   "cell_type": "code",
   "execution_count": 33,
   "metadata": {},
   "outputs": [
    {
     "data": {
      "text/plain": [
       "(0.0, 48264.18830302054)"
      ]
     },
     "execution_count": 33,
     "metadata": {},
     "output_type": "execute_result"
    },
    {
     "data": {
      "image/png": "[encoded data removed]",
      "text/plain": [
       "<Figure size 864x720 with 1 Axes>"
      ]
     },
     "metadata": {
      "needs_background": "light"
     },
     "output_type": "display_data"
    }
   ],
   "source": [
    "width = 12\n",
    "height = 10\n",
    "plt.figure(figsize=(width, height))\n",
    "sns.regplot(x=\"highway-mpg\", y=\"price\", data=df)\n",
    "plt.ylim(0,)"
   ]
  },
  {
   "cell_type": "markdown",
   "metadata": {},
   "source": [
    "<p>We can see from this plot that price is negatively correlated to highway-mpg since the regression slope is negative.\n",
    "\n",
    "One thing to keep in mind when looking at a regression plot is to pay attention to how scattered the data points are around the regression line. This will give you a good indication of the variance of the data and whether a linear model would be the best fit or not. If the data is too far off from the line, this linear model might not be the best model for this data.\n",
    "\n",
    "Let's compare this plot to the regression plot of \"peak-rpm\".</p>\n"
   ]
  },
  {
   "cell_type": "code",
   "execution_count": 34,
   "metadata": {},
   "outputs": [
    {
     "ename": "SyntaxError",
     "evalue": "invalid syntax (1574188887.py, line 1)",
     "output_type": "error",
     "traceback": [
      "\u001b[0;36m  File \u001b[0;32m\"/tmp/ipykernel_65/1574188887.py\"\u001b[0;36m, line \u001b[0;32m1\u001b[0m\n\u001b[0;31m    data:image/png;base64,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plt.figure(figsize=(width, height))\u001b[0m\n\u001b[0m                                                                                                                                                                                                                                                                                                                                  ^\u001b[0m\n\u001b[0;31mSyntaxError\u001b[0m\u001b[0;31m:\u001b[0m invalid syntax\n"
     ]
    }
   ],
   "source": [
    "data:image/png;base64,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plt.figure(figsize=(width, height))\n",
    "sns.regplot(x=\"peak-rpm\", y=\"price\", data=df)\n",
    "plt.ylim(0,)"
   ]
  },
  {
   "cell_type": "markdown",
   "metadata": {},
   "source": [
    "<p>Comparing the regression plot of \"peak-rpm\" and \"highway-mpg\", we see that the points for \"highway-mpg\" are much closer to the generated line and, on average, decrease. The points for \"peak-rpm\" have more spread around the predicted line and it is much harder to determine if the points are decreasing or increasing as the \"peak-rpm\" increases.</p>\n"
   ]
  },
  {
   "cell_type": "markdown",
   "metadata": {},
   "source": [
    "<div class=\"alert alert-danger alertdanger\" style=\"margin-top: 20px\">\n",
    "<h1>Question #3:</h1>\n",
    "<b>Given the regression plots above, is \"peak-rpm\" or \"highway-mpg\" more strongly correlated with \"price\"? Use the method  \".corr()\" to verify your answer.</b>\n",
    "</div>\n"
   ]
  },
  {
   "cell_type": "code",
   "execution_count": null,
   "metadata": {},
   "outputs": [],
   "source": [
    "# Write your code below and press Shift+Enter to execute \n",
    "df[['peak-rpm','highway-mpg','price']].corr()"
   ]
  },
  {
   "cell_type": "markdown",
   "metadata": {},
   "source": [
    "<details><summary>Click here for the solution</summary>\n",
    "\n",
    "```python\n",
    "# The variable \"highway-mpg\" has a stronger correlation with \"price\", it is approximate -0.704692  compared to \"peak-rpm\" which is approximate -0.101616. You can verify it using the following command:\n",
    "\n",
    "df[[\"peak-rpm\",\"highway-mpg\",\"price\"]].corr()\n",
    "\n",
    "```\n",
    "\n",
    "</details>\n"
   ]
  },
  {
   "cell_type": "markdown",
   "metadata": {},
   "source": [
    "<h3>Residual Plot</h3>\n",
    "\n",
    "<p>A good way to visualize the variance of the data is to use a residual plot.</p>\n",
    "\n",
    "<p>What is a <b>residual</b>?</p>\n",
    "\n",
    "<p>The difference between the observed value (y) and the predicted value (Yhat) is called the residual (e). When we look at a regression plot, the residual is the distance from the data point to the fitted regression line.</p>\n",
    "\n",
    "<p>So what is a <b>residual plot</b>?</p>\n",
    "\n",
    "<p>A residual plot is a graph that shows the residuals on the vertical y-axis and the independent variable on the horizontal x-axis.</p>\n",
    "\n",
    "<p>What do we pay attention to when looking at a residual plot?</p>\n",
    "\n",
    "<p>We look at the spread of the residuals:</p>\n",
    "\n",
    "<p>- If the points in a residual plot are <b>randomly spread out around the x-axis</b>, then a <b>linear model is appropriate</b> for the data.\n",
    "\n",
    "Why is that? Randomly spread out residuals means that the variance is constant, and thus the linear model is a good fit for this data.</p>\n"
   ]
  },
  {
   "cell_type": "code",
   "execution_count": null,
   "metadata": {},
   "outputs": [],
   "source": [
    "width = 12\n",
    "height = 10\n",
    "plt.figure(figsize=(width, height))\n",
    "sns.residplot(df['highway-mpg'], df['price'])\n",
    "plt.show()"
   ]
  },
  {
   "cell_type": "markdown",
   "metadata": {},
   "source": [
    "<i>What is this plot telling us?</i>\n",
    "\n",
    "<p>We can see from this residual plot that the residuals are not randomly spread around the x-axis, leading us to believe that maybe a non-linear model is more appropriate for this data.</p>\n"
   ]
  },
  {
   "cell_type": "markdown",
   "metadata": {},
   "source": [
    "<h3>Multiple Linear Regression</h3>\n"
   ]
  },
  {
   "cell_type": "markdown",
   "metadata": {},
   "source": [
    "<p>How do we visualize a model for Multiple Linear Regression? This gets a bit more complicated because you can't visualize it with regression or residual plot.</p>\n",
    "\n",
    "<p>One way to look at the fit of the model is by looking at the <b>distribution plot</b>. We can look at the distribution of the fitted values that result from the model and compare it to the distribution of the actual values.</p>\n"
   ]
  },
  {
   "cell_type": "markdown",
   "metadata": {},
   "source": [
    "First, let's make a prediction:\n"
   ]
  },
  {
   "cell_type": "code",
   "execution_count": null,
   "metadata": {},
   "outputs": [],
   "source": [
    "Y_hat = lm.predict(Z)"
   ]
  },
  {
   "cell_type": "code",
   "execution_count": null,
   "metadata": {},
   "outputs": [],
   "source": [
    "plt.figure(figsize=(width, height))\n",
    "\n",
    "\n",
    "ax1 = sns.distplot(df['price'], hist=False, color=\"r\", label=\"Actual Value\")\n",
    "sns.distplot(Y_hat, hist=False, color=\"b\", label=\"Fitted Values\" , ax=ax1)\n",
    "\n",
    "\n",
    "plt.title('Actual vs Fitted Values for Price')\n",
    "plt.xlabel('Price (in dollars)')\n",
    "plt.ylabel('Proportion of Cars')\n",
    "\n",
    "plt.show()\n",
    "plt.close()"
   ]
  },
  {
   "cell_type": "markdown",
   "metadata": {},
   "source": [
    "<p>We can see that the fitted values are reasonably close to the actual values since the two distributions overlap a bit. However, there is definitely some room for improvement.</p>\n"
   ]
  },
  {
   "cell_type": "markdown",
   "metadata": {},
   "source": [
    "<h2>3. Polynomial Regression and Pipelines</h2>\n"
   ]
  },
  {
   "cell_type": "markdown",
   "metadata": {},
   "source": [
    "<p><b>Polynomial regression</b> is a particular case of the general linear regression model or multiple linear regression models.</p> \n",
    "<p>We get non-linear relationships by squaring or setting higher-order terms of the predictor variables.</p>\n",
    "\n",
    "<p>There are different orders of polynomial regression:</p>\n"
   ]
  },
  {
   "cell_type": "markdown",
   "metadata": {},
   "source": [
    "<center><b>Quadratic - 2nd Order</b></center>\n",
    "$$\n",
    "Yhat = a + b_1 X +b_2 X^2 \n",
    "$$\n",
    "\n",
    "<center><b>Cubic - 3rd Order</b></center>\n",
    "$$\n",
    "Yhat = a + b_1 X +b_2 X^2 +b_3 X^3\\\\\\\\\n",
    "$$\n",
    "\n",
    "<center><b>Higher-Order</b>:</center>\n",
    "$$\n",
    "Y = a + b_1 X +b_2 X^2 +b_3 X^3 ....\\\\\\\\\n",
    "$$\n"
   ]
  },
  {
   "cell_type": "markdown",
   "metadata": {},
   "source": [
    "<p>We saw earlier that a linear model did not provide the best fit while using \"highway-mpg\" as the predictor variable. Let's see if we can try fitting a polynomial model to the data instead.</p>\n"
   ]
  },
  {
   "cell_type": "markdown",
   "metadata": {},
   "source": [
    "<p>We will use the following function to plot the data:</p>\n"
   ]
  },
  {
   "cell_type": "code",
   "execution_count": 36,
   "metadata": {},
   "outputs": [],
   "source": [
    "def PlotPolly(model, independent_variable, dependent_variabble, Name):\n",
    "    x_new = np.linspace(15, 55, 100)\n",
    "    y_new = model(x_new)\n",
    "\n",
    "    plt.plot(independent_variable, dependent_variabble, '.', x_new, y_new, '-')\n",
    "    plt.title('Polynomial Fit with Matplotlib for Price ~ Length')\n",
    "    ax = plt.gca()\n",
    "    ax.set_facecolor((0.898, 0.898, 0.898))\n",
    "    fig = plt.gcf()\n",
    "    plt.xlabel(Name)\n",
    "    plt.ylabel('Price of Cars')\n",
    "\n",
    "    plt.show()\n",
    "    plt.close()"
   ]
  },
  {
   "cell_type": "markdown",
   "metadata": {},
   "source": [
    "Let's get the variables:\n"
   ]
  },
  {
   "cell_type": "code",
   "execution_count": 37,
   "metadata": {},
   "outputs": [],
   "source": [
    "x = df['highway-mpg']\n",
    "y = df['price']"
   ]
  },
  {
   "cell_type": "markdown",
   "metadata": {},
   "source": [
    "Let's fit the polynomial using the function <b>polyfit</b>, then use the function <b>poly1d</b> to display the polynomial function.\n"
   ]
  },
  {
   "cell_type": "code",
   "execution_count": 38,
   "metadata": {},
   "outputs": [
    {
     "name": "stdout",
     "output_type": "stream",
     "text": [
      "        3         2\n",
      "-1.557 x + 204.8 x - 8965 x + 1.379e+05\n"
     ]
    }
   ],
   "source": [
    "# Here we use a polynomial of the 3rd order (cubic) \n",
    "f = np.polyfit(x, y, 3)\n",
    "p = np.poly1d(f)\n",
    "print(p)"
   ]
  },
  {
   "cell_type": "markdown",
   "metadata": {},
   "source": [
    "Let's plot the function:\n"
   ]
  },
  {
   "cell_type": "code",
   "execution_count": 39,
   "metadata": {},
   "outputs": [
    {
     "data": {
      "image/png": "[encoded data removed]",
      "text/plain": [
       "<Figure size 432x288 with 1 Axes>"
      ]
     },
     "metadata": {
      "needs_background": "light"
     },
     "output_type": "display_data"
    }
   ],
   "source": [
    "PlotPolly(p, x, y, 'highway-mpg')"
   ]
  },
  {
   "cell_type": "code",
   "execution_count": 40,
   "metadata": {},
   "outputs": [
    {
     "data": {
      "text/plain": [
       "array([-1.55663829e+00,  2.04754306e+02, -8.96543312e+03,  1.37923594e+05])"
      ]
     },
     "execution_count": 40,
     "metadata": {},
     "output_type": "execute_result"
    }
   ],
   "source": [
    "np.polyfit(x, y, 3)"
   ]
  },
  {
   "cell_type": "markdown",
   "metadata": {},
   "source": [
    "<p>We can already see from plotting that this polynomial model performs better than the linear model. This is because the generated polynomial function  \"hits\" more of the data points.</p>\n"
   ]
  },
  {
   "cell_type": "markdown",
   "metadata": {},
   "source": [
    "<div class=\"alert alert-danger alertdanger\" style=\"margin-top: 20px\">\n",
    "<h1>Question  #4:</h1>\n",
    "<b>Create 11 order polynomial model with the variables x and y from above.</b>\n",
    "</div>\n"
   ]
  },
  {
   "cell_type": "code",
   "execution_count": 44,
   "metadata": {},
   "outputs": [
    {
     "name": "stdout",
     "output_type": "stream",
     "text": [
      "            13             12             11             10           9\n",
      "-6.912e-11 x  + 3.358e-08 x  - 7.433e-06 x  + 0.0009919 x  - 0.08901 x\n",
      "          8         7        6             5             4\n",
      " + 5.668 x - 263.4 x + 9043 x - 2.291e+05 x + 4.231e+06 x\n",
      "              3             2\n",
      " - 5.531e+07 x + 4.846e+08 x - 2.55e+09 x + 6.082e+09\n"
     ]
    }
   ],
   "source": [
    "# Write your code below and press Shift+Enter to execute \n",
    "poly1 = np.polyfit(x,y,13)\n",
    "polyDisplay = np.poly1d(poly1)\n",
    "print(polyDisplay)"
   ]
  },
  {
   "cell_type": "code",
   "execution_count": 45,
   "metadata": {},
   "outputs": [
    {
     "data": {
      "image/png": "[encoded data removed]",
      "text/plain": [
       "<Figure size 432x288 with 1 Axes>"
      ]
     },
     "metadata": {
      "needs_background": "light"
     },
     "output_type": "display_data"
    }
   ],
   "source": [
    "PlotPolly(polyDisplay, x, y, 'highway-mpg')"
   ]
  },
  {
   "cell_type": "markdown",
   "metadata": {},
   "source": [
    "<details><summary>Click here for the solution</summary>\n",
    "\n",
    "```python\n",
    "# Here we use a polynomial of the 11rd order (cubic) \n",
    "f1 = np.polyfit(x, y, 11)\n",
    "p1 = np.poly1d(f1)\n",
    "print(p1)\n",
    "PlotPolly(p1,x,y, 'Highway MPG')\n",
    "\n",
    "```\n",
    "\n",
    "</details>\n"
   ]
  },
  {
   "cell_type": "markdown",
   "metadata": {},
   "source": [
    "<p>The analytical expression for Multivariate Polynomial function gets complicated. For example, the expression for a second-order (degree=2) polynomial with two variables is given by:</p>\n"
   ]
  },
  {
   "cell_type": "markdown",
   "metadata": {},
   "source": [
    "$$\n",
    "Yhat = a + b\\_1 X\\_1 +b\\_2 X\\_2 +b\\_3 X\\_1 X\\_2+b\\_4 X\\_1^2+b\\_5 X\\_2^2\n",
    "$$\n"
   ]
  },
  {
   "cell_type": "markdown",
   "metadata": {},
   "source": [
    "We can perform a polynomial transform on multiple features. First, we import the module:\n"
   ]
  },
  {
   "cell_type": "code",
   "execution_count": 46,
   "metadata": {},
   "outputs": [],
   "source": [
    "from sklearn.preprocessing import PolynomialFeatures"
   ]
  },
  {
   "cell_type": "markdown",
   "metadata": {},
   "source": [
    "We create a <b>PolynomialFeatures</b> object of degree 2:\n"
   ]
  },
  {
   "cell_type": "code",
   "execution_count": 47,
   "metadata": {},
   "outputs": [
    {
     "data": {
      "text/plain": [
       "PolynomialFeatures(degree=2, include_bias=True, interaction_only=False)"
      ]
     },
     "execution_count": 47,
     "metadata": {},
     "output_type": "execute_result"
    }
   ],
   "source": [
    "pr=PolynomialFeatures(degree=2)\n",
    "pr"
   ]
  },
  {
   "cell_type": "code",
   "execution_count": 48,
   "metadata": {},
   "outputs": [],
   "source": [
    "Z_pr=pr.fit_transform(Z)"
   ]
  },
  {
   "cell_type": "markdown",
   "metadata": {},
   "source": [
    "In the original data, there are 201 samples and 4 features.\n"
   ]
  },
  {
   "cell_type": "code",
   "execution_count": 49,
   "metadata": {},
   "outputs": [
    {
     "data": {
      "text/plain": [
       "(201, 4)"
      ]
     },
     "execution_count": 49,
     "metadata": {},
     "output_type": "execute_result"
    }
   ],
   "source": [
    "Z.shape"
   ]
  },
  {
   "cell_type": "markdown",
   "metadata": {},
   "source": [
    "After the transformation, there are 201 samples and 15 features.\n"
   ]
  },
  {
   "cell_type": "code",
   "execution_count": 52,
   "metadata": {},
   "outputs": [
    {
     "data": {
      "text/plain": [
       "(201, 15)"
      ]
     },
     "execution_count": 52,
     "metadata": {},
     "output_type": "execute_result"
    }
   ],
   "source": [
    "Z_pr.shape"
   ]
  },
  {
   "cell_type": "markdown",
   "metadata": {},
   "source": [
    "<h2>Pipeline</h2>\n"
   ]
  },
  {
   "cell_type": "markdown",
   "metadata": {},
   "source": [
    "<p>Data Pipelines simplify the steps of processing the data. We use the module <b>Pipeline</b> to create a pipeline. We also use <b>StandardScaler</b> as a step in our pipeline.</p>\n"
   ]
  },
  {
   "cell_type": "code",
   "execution_count": 53,
   "metadata": {},
   "outputs": [],
   "source": [
    "from sklearn.pipeline import Pipeline\n",
    "from sklearn.preprocessing import StandardScaler"
   ]
  },
  {
   "cell_type": "markdown",
   "metadata": {},
   "source": [
    "We create the pipeline by creating a list of tuples including the name of the model or estimator and its corresponding constructor.\n"
   ]
  },
  {
   "cell_type": "code",
   "execution_count": 54,
   "metadata": {},
   "outputs": [],
   "source": [
    "Input=[('scale',StandardScaler()), ('polynomial', PolynomialFeatures(include_bias=False)), ('model',LinearRegression())]"
   ]
  },
  {
   "cell_type": "markdown",
   "metadata": {},
   "source": [
    "We input the list as an argument to the pipeline constructor:\n"
   ]
  },
  {
   "cell_type": "code",
   "execution_count": 55,
   "metadata": {},
   "outputs": [
    {
     "data": {
      "text/plain": [
       "Pipeline(memory=None,\n",
       "     steps=[('scale', StandardScaler(copy=True, with_mean=True, with_std=True)), ('polynomial', PolynomialFeatures(degree=2, include_bias=False, interaction_only=False)), ('model', LinearRegression(copy_X=True, fit_intercept=True, n_jobs=None,\n",
       "         normalize=False))])"
      ]
     },
     "execution_count": 55,
     "metadata": {},
     "output_type": "execute_result"
    }
   ],
   "source": [
    "pipe=Pipeline(Input)\n",
    "pipe"
   ]
  },
  {
   "cell_type": "markdown",
   "metadata": {},
   "source": [
    "First, we convert the data type Z to type float to avoid conversion warnings that may appear as a result of StandardScaler taking float inputs.\n",
    "\n",
    "Then, we can normalize the data,  perform a transform and fit the model simultaneously.\n"
   ]
  },
  {
   "cell_type": "code",
   "execution_count": 56,
   "metadata": {},
   "outputs": [
    {
     "data": {
      "text/html": [
       "<div>\n",
       "<style scoped>\n",
       "    .dataframe tbody tr th:only-of-type {\n",
       "        vertical-align: middle;\n",
       "    }\n",
       "\n",
       "    .dataframe tbody tr th {\n",
       "        vertical-align: top;\n",
       "    }\n",
       "\n",
       "    .dataframe thead th {\n",
       "        text-align: right;\n",
       "    }\n",
       "</style>\n",
       "<table border=\"1\" class=\"dataframe\">\n",
       "  <thead>\n",
       "    <tr style=\"text-align: right;\">\n",
       "      <th></th>\n",
       "      <th>horsepower</th>\n",
       "      <th>curb-weight</th>\n",
       "      <th>engine-size</th>\n",
       "      <th>highway-mpg</th>\n",
       "    </tr>\n",
       "  </thead>\n",
       "  <tbody>\n",
       "    <tr>\n",
       "      <th>0</th>\n",
       "      <td>111.0</td>\n",
       "      <td>2548</td>\n",
       "      <td>130</td>\n",
       "      <td>27</td>\n",
       "    </tr>\n",
       "    <tr>\n",
       "      <th>1</th>\n",
       "      <td>111.0</td>\n",
       "      <td>2548</td>\n",
       "      <td>130</td>\n",
       "      <td>27</td>\n",
       "    </tr>\n",
       "    <tr>\n",
       "      <th>2</th>\n",
       "      <td>154.0</td>\n",
       "      <td>2823</td>\n",
       "      <td>152</td>\n",
       "      <td>26</td>\n",
       "    </tr>\n",
       "    <tr>\n",
       "      <th>3</th>\n",
       "      <td>102.0</td>\n",
       "      <td>2337</td>\n",
       "      <td>109</td>\n",
       "      <td>30</td>\n",
       "    </tr>\n",
       "    <tr>\n",
       "      <th>4</th>\n",
       "      <td>115.0</td>\n",
       "      <td>2824</td>\n",
       "      <td>136</td>\n",
       "      <td>22</td>\n",
       "    </tr>\n",
       "    <tr>\n",
       "      <th>...</th>\n",
       "      <td>...</td>\n",
       "      <td>...</td>\n",
       "      <td>...</td>\n",
       "      <td>...</td>\n",
       "    </tr>\n",
       "    <tr>\n",
       "      <th>196</th>\n",
       "      <td>114.0</td>\n",
       "      <td>2952</td>\n",
       "      <td>141</td>\n",
       "      <td>28</td>\n",
       "    </tr>\n",
       "    <tr>\n",
       "      <th>197</th>\n",
       "      <td>160.0</td>\n",
       "      <td>3049</td>\n",
       "      <td>141</td>\n",
       "      <td>25</td>\n",
       "    </tr>\n",
       "    <tr>\n",
       "      <th>198</th>\n",
       "      <td>134.0</td>\n",
       "      <td>3012</td>\n",
       "      <td>173</td>\n",
       "      <td>23</td>\n",
       "    </tr>\n",
       "    <tr>\n",
       "      <th>199</th>\n",
       "      <td>106.0</td>\n",
       "      <td>3217</td>\n",
       "      <td>145</td>\n",
       "      <td>27</td>\n",
       "    </tr>\n",
       "    <tr>\n",
       "      <th>200</th>\n",
       "      <td>114.0</td>\n",
       "      <td>3062</td>\n",
       "      <td>141</td>\n",
       "      <td>25</td>\n",
       "    </tr>\n",
       "  </tbody>\n",
       "</table>\n",
       "<p>201 rows × 4 columns</p>\n",
       "</div>"
      ],
      "text/plain": [
       "     horsepower  curb-weight  engine-size  highway-mpg\n",
       "0         111.0         2548          130           27\n",
       "1         111.0         2548          130           27\n",
       "2         154.0         2823          152           26\n",
       "3         102.0         2337          109           30\n",
       "4         115.0         2824          136           22\n",
       "..          ...          ...          ...          ...\n",
       "196       114.0         2952          141           28\n",
       "197       160.0         3049          141           25\n",
       "198       134.0         3012          173           23\n",
       "199       106.0         3217          145           27\n",
       "200       114.0         3062          141           25\n",
       "\n",
       "[201 rows x 4 columns]"
      ]
     },
     "execution_count": 56,
     "metadata": {},
     "output_type": "execute_result"
    }
   ],
   "source": [
    "Z"
   ]
  },
  {
   "cell_type": "code",
   "execution_count": 57,
   "metadata": {},
   "outputs": [
    {
     "data": {
      "text/html": [
       "<div>\n",
       "<style scoped>\n",
       "    .dataframe tbody tr th:only-of-type {\n",
       "        vertical-align: middle;\n",
       "    }\n",
       "\n",
       "    .dataframe tbody tr th {\n",
       "        vertical-align: top;\n",
       "    }\n",
       "\n",
       "    .dataframe thead th {\n",
       "        text-align: right;\n",
       "    }\n",
       "</style>\n",
       "<table border=\"1\" class=\"dataframe\">\n",
       "  <thead>\n",
       "    <tr style=\"text-align: right;\">\n",
       "      <th></th>\n",
       "      <th>horsepower</th>\n",
       "      <th>curb-weight</th>\n",
       "      <th>engine-size</th>\n",
       "      <th>highway-mpg</th>\n",
       "    </tr>\n",
       "  </thead>\n",
       "  <tbody>\n",
       "    <tr>\n",
       "      <th>0</th>\n",
       "      <td>111.0</td>\n",
       "      <td>2548.0</td>\n",
       "      <td>130.0</td>\n",
       "      <td>27.0</td>\n",
       "    </tr>\n",
       "    <tr>\n",
       "      <th>1</th>\n",
       "      <td>111.0</td>\n",
       "      <td>2548.0</td>\n",
       "      <td>130.0</td>\n",
       "      <td>27.0</td>\n",
       "    </tr>\n",
       "    <tr>\n",
       "      <th>2</th>\n",
       "      <td>154.0</td>\n",
       "      <td>2823.0</td>\n",
       "      <td>152.0</td>\n",
       "      <td>26.0</td>\n",
       "    </tr>\n",
       "    <tr>\n",
       "      <th>3</th>\n",
       "      <td>102.0</td>\n",
       "      <td>2337.0</td>\n",
       "      <td>109.0</td>\n",
       "      <td>30.0</td>\n",
       "    </tr>\n",
       "    <tr>\n",
       "      <th>4</th>\n",
       "      <td>115.0</td>\n",
       "      <td>2824.0</td>\n",
       "      <td>136.0</td>\n",
       "      <td>22.0</td>\n",
       "    </tr>\n",
       "    <tr>\n",
       "      <th>...</th>\n",
       "      <td>...</td>\n",
       "      <td>...</td>\n",
       "      <td>...</td>\n",
       "      <td>...</td>\n",
       "    </tr>\n",
       "    <tr>\n",
       "      <th>196</th>\n",
       "      <td>114.0</td>\n",
       "      <td>2952.0</td>\n",
       "      <td>141.0</td>\n",
       "      <td>28.0</td>\n",
       "    </tr>\n",
       "    <tr>\n",
       "      <th>197</th>\n",
       "      <td>160.0</td>\n",
       "      <td>3049.0</td>\n",
       "      <td>141.0</td>\n",
       "      <td>25.0</td>\n",
       "    </tr>\n",
       "    <tr>\n",
       "      <th>198</th>\n",
       "      <td>134.0</td>\n",
       "      <td>3012.0</td>\n",
       "      <td>173.0</td>\n",
       "      <td>23.0</td>\n",
       "    </tr>\n",
       "    <tr>\n",
       "      <th>199</th>\n",
       "      <td>106.0</td>\n",
       "      <td>3217.0</td>\n",
       "      <td>145.0</td>\n",
       "      <td>27.0</td>\n",
       "    </tr>\n",
       "    <tr>\n",
       "      <th>200</th>\n",
       "      <td>114.0</td>\n",
       "      <td>3062.0</td>\n",
       "      <td>141.0</td>\n",
       "      <td>25.0</td>\n",
       "    </tr>\n",
       "  </tbody>\n",
       "</table>\n",
       "<p>201 rows × 4 columns</p>\n",
       "</div>"
      ],
      "text/plain": [
       "     horsepower  curb-weight  engine-size  highway-mpg\n",
       "0         111.0       2548.0        130.0         27.0\n",
       "1         111.0       2548.0        130.0         27.0\n",
       "2         154.0       2823.0        152.0         26.0\n",
       "3         102.0       2337.0        109.0         30.0\n",
       "4         115.0       2824.0        136.0         22.0\n",
       "..          ...          ...          ...          ...\n",
       "196       114.0       2952.0        141.0         28.0\n",
       "197       160.0       3049.0        141.0         25.0\n",
       "198       134.0       3012.0        173.0         23.0\n",
       "199       106.0       3217.0        145.0         27.0\n",
       "200       114.0       3062.0        141.0         25.0\n",
       "\n",
       "[201 rows x 4 columns]"
      ]
     },
     "execution_count": 57,
     "metadata": {},
     "output_type": "execute_result"
    }
   ],
   "source": [
    "Z = Z.astype(float)\n",
    "Z"
   ]
  },
  {
   "cell_type": "code",
   "execution_count": 58,
   "metadata": {},
   "outputs": [
    {
     "data": {
      "text/plain": [
       "Pipeline(memory=None,\n",
       "     steps=[('scale', StandardScaler(copy=True, with_mean=True, with_std=True)), ('polynomial', PolynomialFeatures(degree=2, include_bias=False, interaction_only=False)), ('model', LinearRegression(copy_X=True, fit_intercept=True, n_jobs=None,\n",
       "         normalize=False))])"
      ]
     },
     "execution_count": 58,
     "metadata": {},
     "output_type": "execute_result"
    }
   ],
   "source": [
    "pipe.fit(Z,y)"
   ]
  },
  {
   "cell_type": "markdown",
   "metadata": {},
   "source": [
    "Similarly,  we can normalize the data, perform a transform and produce a prediction  simultaneously.\n"
   ]
  },
  {
   "cell_type": "code",
   "execution_count": 59,
   "metadata": {},
   "outputs": [
    {
     "data": {
      "text/plain": [
       "array([13102.74784201, 13102.74784201, 18225.54572197, 10390.29636555])"
      ]
     },
     "execution_count": 59,
     "metadata": {},
     "output_type": "execute_result"
    }
   ],
   "source": [
    "ypipe=pipe.predict(Z)\n",
    "ypipe[0:4]"
   ]
  },
  {
   "cell_type": "markdown",
   "metadata": {},
   "source": [
    "<div class=\"alert alert-danger alertdanger\" style=\"margin-top: 20px\">\n",
    "<h1>Question #5:</h1>\n",
    "<b>Create a pipeline that standardizes the data, then produce a prediction using a linear regression model using the features Z and target y.</b>\n",
    "</div>\n"
   ]
  },
  {
   "cell_type": "code",
   "execution_count": 63,
   "metadata": {},
   "outputs": [
    {
     "data": {
      "text/plain": [
       "array([13699.11161184, 13699.11161184, 19051.65470233, 10620.36193015])"
      ]
     },
     "execution_count": 63,
     "metadata": {},
     "output_type": "execute_result"
    }
   ],
   "source": [
    "# Write your code below and press Shift+Enter to execute \n",
    "Input=[('scale',StandardScaler()), ('model',LinearRegression())]\n",
    "pipe2 = Pipeline(Input)\n",
    "pipe2.fit(Z,y)\n",
    "ypipe2=pipe2.predict(Z)\n",
    "ypipe2[0:4]"
   ]
  },
  {
   "cell_type": "code",
   "execution_count": 62,
   "metadata": {},
   "outputs": [
    {
     "data": {
      "text/plain": [
       "array([13699.11161184, 13699.11161184, 19051.65470233, 10620.36193015,\n",
       "       15521.31420211, 13869.66673213, 15456.16196732, 15974.00907672,\n",
       "       17612.35917161, 10722.32509097])"
      ]
     },
     "execution_count": 62,
     "metadata": {},
     "output_type": "execute_result"
    }
   ],
   "source": [
    "Input=[('scale',StandardScaler()),('model',LinearRegression())]\n",
    "\n",
    "pipe=Pipeline(Input)\n",
    "\n",
    "pipe.fit(Z,y)\n",
    "\n",
    "ypipe=pipe.predict(Z)\n",
    "ypipe[0:10]"
   ]
  },
  {
   "cell_type": "markdown",
   "metadata": {},
   "source": [
    "<details><summary>Click here for the solution</summary>\n",
    "\n",
    "```python\n",
    "Input=[('scale',StandardScaler()),('model',LinearRegression())]\n",
    "\n",
    "pipe=Pipeline(Input)\n",
    "\n",
    "pipe.fit(Z,y)\n",
    "\n",
    "ypipe=pipe.predict(Z)\n",
    "ypipe[0:10]\n",
    "\n",
    "```\n",
    "\n",
    "</details>\n"
   ]
  },
  {
   "cell_type": "markdown",
   "metadata": {},
   "source": [
    "<h2>4. Measures for In-Sample Evaluation</h2>\n"
   ]
  },
  {
   "cell_type": "markdown",
   "metadata": {},
   "source": [
    "<p>When evaluating our models, not only do we want to visualize the results, but we also want a quantitative measure to determine how accurate the model is.</p>\n",
    "\n",
    "<p>Two very important measures that are often used in Statistics to determine the accuracy of a model are:</p>\n",
    "<ul>\n",
    "    <li><b>R^2 / R-squared</b></li>\n",
    "    <li><b>Mean Squared Error (MSE)</b></li>\n",
    "</ul>\n",
    "\n",
    "<b>R-squared</b>\n",
    "\n",
    "<p>R squared, also known as the coefficient of determination, is a measure to indicate how close the data is to the fitted regression line.</p>\n",
    "\n",
    "<p>The value of the R-squared is the percentage of variation of the response variable (y) that is explained by a linear model.</p>\n",
    "\n",
    "<b>Mean Squared Error (MSE)</b>\n",
    "\n",
    "<p>The Mean Squared Error measures the average of the squares of errors. That is, the difference between actual value (y) and the estimated value (ŷ).</p>\n"
   ]
  },
  {
   "cell_type": "markdown",
   "metadata": {},
   "source": [
    "<h3>Model 1: Simple Linear Regression</h3>\n"
   ]
  },
  {
   "cell_type": "markdown",
   "metadata": {},
   "source": [
    "Let's calculate the R^2:\n"
   ]
  },
  {
   "cell_type": "code",
   "execution_count": 68,
   "metadata": {
    "scrolled": true
   },
   "outputs": [
    {
     "name": "stdout",
     "output_type": "stream",
     "text": [
      "The R-square is:  0.4965911884339176\n"
     ]
    }
   ],
   "source": [
    "#highway_mpg_fit\n",
    "lm.fit(X, Y)\n",
    "# Find the R^2\n",
    "print('The R-square is: ', lm.score(X, Y))"
   ]
  },
  {
   "cell_type": "markdown",
   "metadata": {},
   "source": [
    "We can say that \\~49.659% of the variation of the price is explained by this simple linear model \"horsepower_fit\".\n"
   ]
  },
  {
   "cell_type": "markdown",
   "metadata": {},
   "source": [
    "Let's calculate the MSE:\n"
   ]
  },
  {
   "cell_type": "markdown",
   "metadata": {},
   "source": [
    "We can predict the output i.e., \"yhat\" using the predict method, where X is the input variable:\n"
   ]
  },
  {
   "cell_type": "code",
   "execution_count": 69,
   "metadata": {},
   "outputs": [
    {
     "name": "stdout",
     "output_type": "stream",
     "text": [
      "The output of the first four predicted value is:  [16236.50464347 16236.50464347 17058.23802179 13771.3045085 ]\n"
     ]
    }
   ],
   "source": [
    "Yhat=lm.predict(X)\n",
    "print('The output of the first four predicted value is: ', Yhat[0:4])"
   ]
  },
  {
   "cell_type": "markdown",
   "metadata": {},
   "source": [
    "Let's import the function <b>mean_squared_error</b> from the module <b>metrics</b>:\n"
   ]
  },
  {
   "cell_type": "code",
   "execution_count": 73,
   "metadata": {},
   "outputs": [
    {
     "data": {
      "text/html": [
       "<div>\n",
       "<style scoped>\n",
       "    .dataframe tbody tr th:only-of-type {\n",
       "        vertical-align: middle;\n",
       "    }\n",
       "\n",
       "    .dataframe tbody tr th {\n",
       "        vertical-align: top;\n",
       "    }\n",
       "\n",
       "    .dataframe thead th {\n",
       "        text-align: right;\n",
       "    }\n",
       "</style>\n",
       "<table border=\"1\" class=\"dataframe\">\n",
       "  <thead>\n",
       "    <tr style=\"text-align: right;\">\n",
       "      <th></th>\n",
       "      <th>highway-mpg</th>\n",
       "      <th>price</th>\n",
       "    </tr>\n",
       "  </thead>\n",
       "  <tbody>\n",
       "    <tr>\n",
       "      <th>0</th>\n",
       "      <td>27</td>\n",
       "      <td>13495.0</td>\n",
       "    </tr>\n",
       "    <tr>\n",
       "      <th>1</th>\n",
       "      <td>27</td>\n",
       "      <td>16500.0</td>\n",
       "    </tr>\n",
       "    <tr>\n",
       "      <th>2</th>\n",
       "      <td>26</td>\n",
       "      <td>16500.0</td>\n",
       "    </tr>\n",
       "    <tr>\n",
       "      <th>3</th>\n",
       "      <td>30</td>\n",
       "      <td>13950.0</td>\n",
       "    </tr>\n",
       "    <tr>\n",
       "      <th>4</th>\n",
       "      <td>22</td>\n",
       "      <td>17450.0</td>\n",
       "    </tr>\n",
       "    <tr>\n",
       "      <th>...</th>\n",
       "      <td>...</td>\n",
       "      <td>...</td>\n",
       "    </tr>\n",
       "    <tr>\n",
       "      <th>196</th>\n",
       "      <td>28</td>\n",
       "      <td>16845.0</td>\n",
       "    </tr>\n",
       "    <tr>\n",
       "      <th>197</th>\n",
       "      <td>25</td>\n",
       "      <td>19045.0</td>\n",
       "    </tr>\n",
       "    <tr>\n",
       "      <th>198</th>\n",
       "      <td>23</td>\n",
       "      <td>21485.0</td>\n",
       "    </tr>\n",
       "    <tr>\n",
       "      <th>199</th>\n",
       "      <td>27</td>\n",
       "      <td>22470.0</td>\n",
       "    </tr>\n",
       "    <tr>\n",
       "      <th>200</th>\n",
       "      <td>25</td>\n",
       "      <td>22625.0</td>\n",
       "    </tr>\n",
       "  </tbody>\n",
       "</table>\n",
       "<p>201 rows × 2 columns</p>\n",
       "</div>"
      ],
      "text/plain": [
       "     highway-mpg    price\n",
       "0             27  13495.0\n",
       "1             27  16500.0\n",
       "2             26  16500.0\n",
       "3             30  13950.0\n",
       "4             22  17450.0\n",
       "..           ...      ...\n",
       "196           28  16845.0\n",
       "197           25  19045.0\n",
       "198           23  21485.0\n",
       "199           27  22470.0\n",
       "200           25  22625.0\n",
       "\n",
       "[201 rows x 2 columns]"
      ]
     },
     "execution_count": 73,
     "metadata": {},
     "output_type": "execute_result"
    }
   ],
   "source": [
    "df[['highway-mpg','price']]"
   ]
  },
  {
   "cell_type": "code",
   "execution_count": 75,
   "metadata": {},
   "outputs": [
    {
     "data": {
      "text/plain": [
       "array([16236.50464347, 16236.50464347, 17058.23802179, 13771.3045085 ,\n",
       "       20345.17153508, 17879.97140011, 17879.97140011, 17879.97140011,\n",
       "       21988.63829172, 14593.03788682])"
      ]
     },
     "execution_count": 75,
     "metadata": {},
     "output_type": "execute_result"
    }
   ],
   "source": [
    "Yhat[:10]"
   ]
  },
  {
   "cell_type": "code",
   "execution_count": 76,
   "metadata": {},
   "outputs": [],
   "source": [
    "from sklearn.metrics import mean_squared_error"
   ]
  },
  {
   "cell_type": "markdown",
   "metadata": {},
   "source": [
    "We can compare the predicted results with the actual results:\n"
   ]
  },
  {
   "cell_type": "code",
   "execution_count": 77,
   "metadata": {},
   "outputs": [
    {
     "name": "stdout",
     "output_type": "stream",
     "text": [
      "The mean square error of price and predicted value is:  31635042.944639888\n"
     ]
    }
   ],
   "source": [
    "mse = mean_squared_error(df['price'], Yhat)\n",
    "print('The mean square error of price and predicted value is: ', mse)"
   ]
  },
  {
   "cell_type": "markdown",
   "metadata": {},
   "source": [
    "<h3>Model 2: Multiple Linear Regression</h3>\n"
   ]
  },
  {
   "cell_type": "markdown",
   "metadata": {},
   "source": [
    "Let's calculate the R^2:\n"
   ]
  },
  {
   "cell_type": "code",
   "execution_count": 79,
   "metadata": {},
   "outputs": [
    {
     "name": "stdout",
     "output_type": "stream",
     "text": [
      "The R-square is:  0.8093562806577457\n"
     ]
    }
   ],
   "source": [
    "# fit the model \n",
    "lm.fit(Z, df['price'])\n",
    "# Find the R^2\n",
    "print('The R-square is: ', lm.score(Z, df['price']))"
   ]
  },
  {
   "cell_type": "markdown",
   "metadata": {},
   "source": [
    "We can say that \\~80.896 % of the variation of price is explained by this multiple linear regression \"multi_fit\".\n"
   ]
  },
  {
   "cell_type": "markdown",
   "metadata": {},
   "source": [
    "Let's calculate the MSE.\n"
   ]
  },
  {
   "cell_type": "markdown",
   "metadata": {},
   "source": [
    "We produce a prediction:\n"
   ]
  },
  {
   "cell_type": "code",
   "execution_count": 80,
   "metadata": {},
   "outputs": [],
   "source": [
    "Y_predict_multifit = lm.predict(Z)"
   ]
  },
  {
   "cell_type": "markdown",
   "metadata": {},
   "source": [
    "We compare the predicted results with the actual results:\n"
   ]
  },
  {
   "cell_type": "code",
   "execution_count": 81,
   "metadata": {},
   "outputs": [
    {
     "name": "stdout",
     "output_type": "stream",
     "text": [
      "The mean square error of price and predicted value using multifit is:  11980366.87072649\n"
     ]
    }
   ],
   "source": [
    "print('The mean square error of price and predicted value using multifit is: ', \\\n",
    "      mean_squared_error(df['price'], Y_predict_multifit))"
   ]
  },
  {
   "cell_type": "markdown",
   "metadata": {},
   "source": [
    "<h3>Model 3: Polynomial Fit</h3>\n"
   ]
  },
  {
   "cell_type": "markdown",
   "metadata": {},
   "source": [
    "Let's calculate the R^2.\n"
   ]
  },
  {
   "cell_type": "markdown",
   "metadata": {},
   "source": [
    "Let’s import the function <b>r2\\_score</b> from the module <b>metrics</b> as we are using a different function.\n"
   ]
  },
  {
   "cell_type": "code",
   "execution_count": 82,
   "metadata": {},
   "outputs": [],
   "source": [
    "from sklearn.metrics import r2_score"
   ]
  },
  {
   "cell_type": "markdown",
   "metadata": {},
   "source": [
    "We apply the function to get the value of R^2:\n"
   ]
  },
  {
   "cell_type": "code",
   "execution_count": null,
   "metadata": {},
   "outputs": [],
   "source": [
    "r_squared = r2_score(y, p(x))\n",
    "print('The R-square value is: ', r_squared)"
   ]
  },
  {
   "cell_type": "markdown",
   "metadata": {},
   "source": [
    "We can say that \\~67.419 % of the variation of price is explained by this polynomial fit.\n"
   ]
  },
  {
   "cell_type": "markdown",
   "metadata": {},
   "source": [
    "<h3>MSE</h3>\n"
   ]
  },
  {
   "cell_type": "markdown",
   "metadata": {},
   "source": [
    "We can also calculate the MSE:\n"
   ]
  },
  {
   "cell_type": "code",
   "execution_count": 83,
   "metadata": {},
   "outputs": [
    {
     "data": {
      "text/plain": [
       "20474146.426361214"
      ]
     },
     "execution_count": 83,
     "metadata": {},
     "output_type": "execute_result"
    }
   ],
   "source": [
    "mean_squared_error(df['price'], p(x))"
   ]
  },
  {
   "cell_type": "markdown",
   "metadata": {},
   "source": [
    "<h2>5. Prediction and Decision Making</h2>\n",
    "<h3>Prediction</h3>\n",
    "\n",
    "<p>In the previous section, we trained the model using the method <b>fit</b>. Now we will use the method <b>predict</b> to produce a prediction. Lets import <b>pyplot</b> for plotting; we will also be using some functions from numpy.</p>\n"
   ]
  },
  {
   "cell_type": "code",
   "execution_count": 84,
   "metadata": {},
   "outputs": [],
   "source": [
    "import matplotlib.pyplot as plt\n",
    "import numpy as np\n",
    "\n",
    "%matplotlib inline "
   ]
  },
  {
   "cell_type": "markdown",
   "metadata": {},
   "source": [
    "Create a new input:\n"
   ]
  },
  {
   "cell_type": "code",
   "execution_count": 85,
   "metadata": {},
   "outputs": [],
   "source": [
    "new_input=np.arange(1, 100, 1).reshape(-1, 1)"
   ]
  },
  {
   "cell_type": "code",
   "execution_count": 88,
   "metadata": {},
   "outputs": [
    {
     "data": {
      "text/plain": [
       "array([[1],\n",
       "       [2],\n",
       "       [3],\n",
       "       [4],\n",
       "       [5]])"
      ]
     },
     "execution_count": 88,
     "metadata": {},
     "output_type": "execute_result"
    }
   ],
   "source": [
    "new_input[:5]"
   ]
  },
  {
   "cell_type": "markdown",
   "metadata": {},
   "source": [
    "Fit the model:\n"
   ]
  },
  {
   "cell_type": "code",
   "execution_count": 89,
   "metadata": {},
   "outputs": [
    {
     "data": {
      "text/plain": [
       "LinearRegression(copy_X=True, fit_intercept=True, n_jobs=None,\n",
       "         normalize=False)"
      ]
     },
     "execution_count": 89,
     "metadata": {},
     "output_type": "execute_result"
    }
   ],
   "source": [
    "lm.fit(X, Y)\n",
    "lm"
   ]
  },
  {
   "cell_type": "markdown",
   "metadata": {},
   "source": [
    "Produce a prediction:\n"
   ]
  },
  {
   "cell_type": "code",
   "execution_count": 108,
   "metadata": {},
   "outputs": [
    {
     "data": {
      "text/plain": [
       "array([ 37601.57247984,  36779.83910151,  35958.10572319,  35136.37234487,\n",
       "        34314.63896655,  33492.90558823,  32671.1722099 ,  31849.43883158,\n",
       "        31027.70545326,  30205.97207494,  29384.23869662,  28562.50531829,\n",
       "        27740.77193997,  26919.03856165,  26097.30518333,  25275.57180501,\n",
       "        24453.83842668,  23632.10504836,  22810.37167004,  21988.63829172,\n",
       "        21166.9049134 ,  20345.17153508,  19523.43815675,  18701.70477843,\n",
       "        17879.97140011,  17058.23802179,  16236.50464347,  15414.77126514,\n",
       "        14593.03788682,  13771.3045085 ,  12949.57113018,  12127.83775186,\n",
       "        11306.10437353,  10484.37099521,   9662.63761689,   8840.90423857,\n",
       "         8019.17086025,   7197.43748192,   6375.7041036 ,   5553.97072528,\n",
       "         4732.23734696,   3910.50396864,   3088.77059031,   2267.03721199,\n",
       "         1445.30383367,    623.57045535,   -198.16292297,  -1019.8963013 ,\n",
       "        -1841.62967962,  -2663.36305794,  -3485.09643626,  -4306.82981458,\n",
       "        -5128.5631929 ,  -5950.29657123,  -6772.02994955,  -7593.76332787,\n",
       "        -8415.49670619,  -9237.23008451, -10058.96346284, -10880.69684116,\n",
       "       -11702.43021948, -12524.1635978 , -13345.89697612, -14167.63035445,\n",
       "       -14989.36373277, -15811.09711109, -16632.83048941, -17454.56386773,\n",
       "       -18276.29724606, -19098.03062438, -19919.7640027 , -20741.49738102,\n",
       "       -21563.23075934, -22384.96413767, -23206.69751599, -24028.43089431,\n",
       "       -24850.16427263, -25671.89765095, -26493.63102927, -27315.3644076 ,\n",
       "       -28137.09778592, -28958.83116424, -29780.56454256, -30602.29792088,\n",
       "       -31424.03129921, -32245.76467753, -33067.49805585, -33889.23143417,\n",
       "       -34710.96481249, -35532.69819082, -36354.43156914, -37176.16494746,\n",
       "       -37997.89832578, -38819.6317041 , -39641.36508243, -40463.09846075,\n",
       "       -41284.83183907, -42106.56521739, -42928.29859571])"
      ]
     },
     "execution_count": 108,
     "metadata": {},
     "output_type": "execute_result"
    }
   ],
   "source": [
    "yhat=lm.predict(new_input)\n",
    "yhat[0:100]"
   ]
  },
  {
   "cell_type": "code",
   "execution_count": 107,
   "metadata": {},
   "outputs": [
    {
     "data": {
      "text/html": [
       "<div>\n",
       "<style scoped>\n",
       "    .dataframe tbody tr th:only-of-type {\n",
       "        vertical-align: middle;\n",
       "    }\n",
       "\n",
       "    .dataframe tbody tr th {\n",
       "        vertical-align: top;\n",
       "    }\n",
       "\n",
       "    .dataframe thead th {\n",
       "        text-align: right;\n",
       "    }\n",
       "</style>\n",
       "<table border=\"1\" class=\"dataframe\">\n",
       "  <thead>\n",
       "    <tr style=\"text-align: right;\">\n",
       "      <th></th>\n",
       "      <th>highway-mpg</th>\n",
       "      <th>price</th>\n",
       "    </tr>\n",
       "  </thead>\n",
       "  <tbody>\n",
       "    <tr>\n",
       "      <th>70</th>\n",
       "      <td>16</td>\n",
       "      <td>40960.0</td>\n",
       "    </tr>\n",
       "  </tbody>\n",
       "</table>\n",
       "</div>"
      ],
      "text/plain": [
       "    highway-mpg    price\n",
       "70           16  40960.0"
      ]
     },
     "execution_count": 107,
     "metadata": {},
     "output_type": "execute_result"
    }
   ],
   "source": [
    "df[['highway-mpg','price']][70:71]"
   ]
  },
  {
   "cell_type": "markdown",
   "metadata": {},
   "source": [
    "We can plot the data:\n"
   ]
  },
  {
   "cell_type": "code",
   "execution_count": 109,
   "metadata": {},
   "outputs": [
    {
     "data": {
      "image/png": "[encoded data removed]",
      "text/plain": [
       "<Figure size 432x288 with 1 Axes>"
      ]
     },
     "metadata": {
      "needs_background": "light"
     },
     "output_type": "display_data"
    }
   ],
   "source": [
    "plt.plot(new_input, yhat)\n",
    "plt.show()"
   ]
  },
  {
   "cell_type": "markdown",
   "metadata": {},
   "source": [
    "<h3>Decision Making: Determining a Good Model Fit</h3>\n"
   ]
  },
  {
   "cell_type": "markdown",
   "metadata": {},
   "source": [
    "<p>Now that we have visualized the different models, and generated the R-squared and MSE values for the fits, how do we determine a good model fit?\n",
    "<ul>\n",
    "    <li><i>What is a good R-squared value?</i></li>\n",
    "</ul>\n",
    "</p>\n",
    "\n",
    "<p>When comparing models, <b>the model with the higher R-squared value is a better fit</b> for the data.\n",
    "<ul>\n",
    "    <li><i>What is a good MSE?</i></li>\n",
    "</ul>\n",
    "</p>\n",
    "\n",
    "<p>When comparing models, <b>the model with the smallest MSE value is a better fit</b> for the data.</p>\n",
    "\n",
    "<h4>Let's take a look at the values for the different models.</h4>\n",
    "<p>Simple Linear Regression: Using Highway-mpg as a Predictor Variable of Price.\n",
    "<ul>\n",
    "    <li>R-squared: 0.49659118843391759</li>\n",
    "    <li>MSE: 3.16 x10^7</li>\n",
    "</ul>\n",
    "</p>\n",
    "\n",
    "<p>Multiple Linear Regression: Using Horsepower, Curb-weight, Engine-size, and Highway-mpg as Predictor Variables of Price.\n",
    "<ul>\n",
    "    <li>R-squared: 0.80896354913783497</li>\n",
    "    <li>MSE: 1.2 x10^7</li>\n",
    "</ul>\n",
    "</p>\n",
    "\n",
    "<p>Polynomial Fit: Using Highway-mpg as a Predictor Variable of Price.\n",
    "<ul>\n",
    "    <li>R-squared: 0.6741946663906514</li>\n",
    "    <li>MSE: 2.05 x 10^7</li>\n",
    "</ul>\n",
    "</p>\n"
   ]
  },
  {
   "cell_type": "markdown",
   "metadata": {},
   "source": [
    "<h3>Simple Linear Regression Model (SLR) vs Multiple Linear Regression Model (MLR)</h3>\n"
   ]
  },
  {
   "cell_type": "markdown",
   "metadata": {},
   "source": [
    "<p>Usually, the more variables you have, the better your model is at predicting, but this is not always true. Sometimes you may not have enough data, you may run into numerical problems, or many of the variables may not be useful and even act as noise. As a result, you should always check the MSE and R^2.</p>\n",
    "\n",
    "<p>In order to compare the results of the MLR vs SLR models, we look at a combination of both the R-squared and MSE to make the best conclusion about the fit of the model.\n",
    "<ul>\n",
    "    <li><b>MSE</b>: The MSE of SLR is  3.16x10^7  while MLR has an MSE of 1.2 x10^7.  The MSE of MLR is much smaller.</li>\n",
    "    <li><b>R-squared</b>: In this case, we can also see that there is a big difference between the R-squared of the SLR and the R-squared of the MLR. The R-squared for the SLR (~0.497) is very small compared to the R-squared for the MLR (~0.809).</li>\n",
    "</ul>\n",
    "</p>\n",
    "\n",
    "This R-squared in combination with the MSE show that MLR seems like the better model fit in this case compared to SLR.\n"
   ]
  },
  {
   "cell_type": "markdown",
   "metadata": {},
   "source": [
    "<h3>Simple Linear Model (SLR) vs. Polynomial Fit</h3>\n"
   ]
  },
  {
   "cell_type": "markdown",
   "metadata": {},
   "source": [
    "<ul>\n",
    "    <li><b>MSE</b>: We can see that Polynomial Fit brought down the MSE, since this MSE is smaller than the one from the SLR.</li> \n",
    "    <li><b>R-squared</b>: The R-squared for the Polynomial Fit is larger than the R-squared for the SLR, so the Polynomial Fit also brought up the R-squared quite a bit.</li>\n",
    "</ul>\n",
    "<p>Since the Polynomial Fit resulted in a lower MSE and a higher R-squared, we can conclude that this was a better fit model than the simple linear regression for predicting \"price\" with \"highway-mpg\" as a predictor variable.</p>\n"
   ]
  },
  {
   "cell_type": "markdown",
   "metadata": {},
   "source": [
    "<h3>Multiple Linear Regression (MLR) vs. Polynomial Fit</h3>\n"
   ]
  },
  {
   "cell_type": "markdown",
   "metadata": {},
   "source": [
    "<ul>\n",
    "    <li><b>MSE</b>: The MSE for the MLR is smaller than the MSE for the Polynomial Fit.</li>\n",
    "    <li><b>R-squared</b>: The R-squared for the MLR is also much larger than for the Polynomial Fit.</li>\n",
    "</ul>\n"
   ]
  },
  {
   "cell_type": "markdown",
   "metadata": {},
   "source": [
    "<h2>Conclusion</h2>\n"
   ]
  },
  {
   "cell_type": "markdown",
   "metadata": {},
   "source": [
    "<p>Comparing these three models, we conclude that <b>the MLR model is the best model</b> to be able to predict price from our dataset. This result makes sense since we have 27 variables in total and we know that more than one of those variables are potential predictors of the final car price.</p>\n"
   ]
  },
  {
   "cell_type": "markdown",
   "metadata": {},
   "source": [
    "### Thank you for completing this lab!\n",
    "\n",
    "## Author\n",
    "\n",
    "<a href=\"https://www.linkedin.com/in/joseph-s-50398b136/?utm_medium=Exinfluencer&utm_source=Exinfluencer&utm_content=000026UJ&utm_term=10006555&utm_id=NA-SkillsNetwork-Channel-SkillsNetworkCoursesIBMDeveloperSkillsNetworkDA0101ENSkillsNetwork20235326-2021-01-01\" target=\"_blank\">Joseph Santarcangelo</a>\n",
    "\n",
    "### Other Contributors\n",
    "\n",
    "<a href=\"https://www.linkedin.com/in/mahdi-noorian-58219234/?utm_medium=Exinfluencer&utm_source=Exinfluencer&utm_content=000026UJ&utm_term=10006555&utm_id=NA-SkillsNetwork-Channel-SkillsNetworkCoursesIBMDeveloperSkillsNetworkDA0101ENSkillsNetwork20235326-2021-01-01\" target=\"_blank\">Mahdi Noorian PhD</a>\n",
    "\n",
    "Bahare Talayian\n",
    "\n",
    "Eric Xiao\n",
    "\n",
    "Steven Dong\n",
    "\n",
    "Parizad\n",
    "\n",
    "Hima Vasudevan\n",
    "\n",
    "<a href=\"https://www.linkedin.com/in/fiorellawever/?utm_medium=Exinfluencer&utm_source=Exinfluencer&utm_content=000026UJ&utm_term=10006555&utm_id=NA-SkillsNetwork-Channel-SkillsNetworkCoursesIBMDeveloperSkillsNetworkDA0101ENSkillsNetwork20235326-2021-01-01\" target=\"_blank\">Fiorella Wenver</a>\n",
    "\n",
    "<a href=\"https:// https://www.linkedin.com/in/yi-leng-yao-84451275/ \" target=\"_blank\" >Yi Yao</a>.\n",
    "\n",
    "## Change Log\n",
    "\n",
    "| Date (YYYY-MM-DD) | Version | Changed By | Change Description                            |\n",
    "| ----------------- | ------- | ---------- | --------------------------------------------- |\n",
    "| 2020-10-30        | 2.2     | Lakshmi    | Changed url of csv                            |\n",
    "| 2020-09-09        | 2.1     | Lakshmi    | Fixes made in Polynomial Regression Equations |\n",
    "| 2020-08-27        | 2.0     | Lavanya    | Moved lab to course repo in GitLab            |\n",
    "\n",
    "<hr>\n",
    "\n",
    "## <h3 align=\"center\"> © IBM Corporation 2020. All rights reserved. <h3/>\n"
   ]
  }
 ],
 "metadata": {
  "kernelspec": {
   "display_name": "Python",
   "language": "python",
   "name": "conda-env-python-py"
  },
  "language_info": {
   "codemirror_mode": {
    "name": "ipython",
    "version": 3
   },
   "file_extension": ".py",
   "mimetype": "text/x-python",
   "name": "python",
   "nbconvert_exporter": "python",
   "pygments_lexer": "ipython3",
   "version": "3.7.12"
  }
 },
 "nbformat": 4,
 "nbformat_minor": 4
}
